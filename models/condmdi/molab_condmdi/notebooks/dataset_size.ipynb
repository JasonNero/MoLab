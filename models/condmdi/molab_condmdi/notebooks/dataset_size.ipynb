{
 "cells": [
  {
   "cell_type": "markdown",
   "metadata": {},
   "source": [
    "## Evaluating the use of some alternative but high quality datasets\n",
    "See [Let's talk about Animation Quality](https://theorangeduck.com/page/animation-quality) by Daniel Holden.\n"
   ]
  },
  {
   "cell_type": "code",
   "execution_count": 1,
   "metadata": {},
   "outputs": [],
   "source": [
    "from pathlib import Path"
   ]
  },
  {
   "cell_type": "code",
   "execution_count": 2,
   "metadata": {},
   "outputs": [],
   "source": [
    "# Path to some high quality datasets\n",
    "bvh_dirs = {\n",
    "    \"motorica-retarget\": Path(\"../../../../../../data/holden-motorica-retarget\"),\n",
    "    \"zeroeggs-retarget\": Path(\"../../../../../../data/holden-zeroeggs-retarget\"),\n",
    "    \"lafan1-resolved\": Path(\"../../../../../../data/holden-lafan1-resolved\")\n",
    "}"
   ]
  },
  {
   "cell_type": "code",
   "execution_count": 3,
   "metadata": {},
   "outputs": [
    {
     "name": "stdout",
     "output_type": "stream",
     "text": [
      "motorica-retarget: \tframe_count=1_336_975 \t| 6.19h (@ 60Hz)\n",
      "zeroeggs-retarget: \tframe_count=969_446 \t| 4.49h (@ 60Hz)\n",
      "lafan1-resolved: \tframe_count=978_767 \t| 4.53h (@ 60Hz)\n",
      "=================================================================\n",
      "HumanML3D:\t\tframe_count=2_058_610 \t| 28.59h (@ 20Hz)\n"
     ]
    }
   ],
   "source": [
    "hz = 60\n",
    "frame_time = 1 / hz  # Holden Datasets are 60 Hz/Fps\n",
    "\n",
    "for dataset_name, bvh_dir in bvh_dirs.items():\n",
    "    frame_count = 0\n",
    "    for bvh_file in bvh_dir.glob(\"*.bvh\"):\n",
    "        with bvh_file.open() as f:\n",
    "            for line in f:\n",
    "                if line.startswith(\"Frames: \"):\n",
    "                    frame_count += int(line.split()[-1])\n",
    "                    break\n",
    "            else:\n",
    "                print(f\"No frame count found in {bvh_file.name}\")\n",
    "    hours = (frame_count * frame_time) / 60 / 60\n",
    "    print(f\"{dataset_name}: \\t{frame_count=:_} \\t| {hours:.3}h (@ {hz}Hz)\")\n",
    "\n",
    "print(\"=================================================================\")\n",
    "# HumanML3D Statistics taken from README and verified with the npy files\n",
    "print(\"HumanML3D:\\t\\tframe_count=2_058_610 \\t| 28.59h (@ 20Hz)\")"
   ]
  },
  {
   "cell_type": "markdown",
   "metadata": {},
   "source": [
    "- HML3D frame count is ~1.6 times larger than `motorica-retarget`\n",
    "- HML3D has ~4.6 times the \"runtime\" (due to the inferior 20Hz)\n",
    "- Combining all three of the retargeted/resolved datasets should result in an even better dataset\n",
    "\n",
    "\n",
    "`combined: frame_count=3_285_188 | 15.21h (@ 60Hz)`"
   ]
  },
  {
   "cell_type": "markdown",
   "metadata": {},
   "source": [
    "### NOTE: Don't forget to mirror the data\n",
    "- HML3D is mirrored (so count all numbers above double)\n",
    "- zeroeggs seems to be mirrored already (check and update numbers above)\n",
    "- motorica and lafan are not mirrored (numbers above are correct)"
   ]
  }
 ],
 "metadata": {
  "kernelspec": {
   "display_name": ".venv",
   "language": "python",
   "name": "python3"
  },
  "language_info": {
   "codemirror_mode": {
    "name": "ipython",
    "version": 3
   },
   "file_extension": ".py",
   "mimetype": "text/x-python",
   "name": "python",
   "nbconvert_exporter": "python",
   "pygments_lexer": "ipython3",
   "version": "3.9.19"
  }
 },
 "nbformat": 4,
 "nbformat_minor": 2
}
