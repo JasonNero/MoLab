{
 "cells": [
  {
   "cell_type": "markdown",
   "metadata": {},
   "source": [
    "# Imports and Setup"
   ]
  },
  {
   "cell_type": "code",
   "execution_count": 1,
   "metadata": {},
   "outputs": [
    {
     "name": "stdout",
     "output_type": "stream",
     "text": [
      "/Users/jason/repos/diffusion-motion-inbetweening\n"
     ]
    }
   ],
   "source": [
    "%cd .."
   ]
  },
  {
   "cell_type": "code",
   "execution_count": 2,
   "metadata": {},
   "outputs": [
    {
     "name": "stderr",
     "output_type": "stream",
     "text": [
      "<frozen importlib._bootstrap>:228: RuntimeWarning: scipy._lib.messagestream.MessageStream size changed, may indicate binary incompatibility. Expected 56 from C header, got 64 from PyObject\n"
     ]
    }
   ],
   "source": [
    "import warnings\n",
    "from pathlib import Path\n",
    "\n",
    "import ipywidgets\n",
    "import matplotlib.pyplot as plt\n",
    "import numpy as np\n",
    "import seaborn as sns\n",
    "import torch\n",
    "from scipy.spatial.transform.rotation import Rotation as R\n",
    "\n",
    "warnings.filterwarnings(\"once\")"
   ]
  },
  {
   "cell_type": "code",
   "execution_count": 3,
   "metadata": {},
   "outputs": [
    {
     "name": "stderr",
     "output_type": "stream",
     "text": [
      "/Users/jason/repos/diffusion-motion-inbetweening/data_loaders/humanml/common/quaternion.py:13: DeprecationWarning: `np.float` is a deprecated alias for the builtin `float`. To silence this warning, use `float` by itself. Doing this will not modify any behavior and is safe. If you specifically wanted the numpy scalar type, use `np.float64` here.\n",
      "Deprecated in NumPy 1.20; for more details and guidance: https://numpy.org/devdocs/release/1.20.0-notes.html#deprecations\n",
      "  _FLOAT_EPS = np.finfo(np.float).eps\n"
     ]
    }
   ],
   "source": [
    "from data_loaders.humanml.common import quaternion\n",
    "from data_loaders.humanml.common.skeleton import Skeleton\n",
    "from data_loaders.humanml.scripts.motion_process import recover_root_rot_pos\n",
    "from data_loaders.humanml.utils import paramUtil\n",
    "from utils import rotation_conversions"
   ]
  },
  {
   "cell_type": "markdown",
   "metadata": {},
   "source": [
    "## Plotting"
   ]
  },
  {
   "cell_type": "code",
   "execution_count": 4,
   "metadata": {},
   "outputs": [],
   "source": [
    "# @ipywidgets.interact(frame=(0, 195))\n",
    "def plot_motion(\n",
    "    samples_glb: np.ndarray,\n",
    "    groundtruth_glb: np.ndarray,\n",
    "    name: str,\n",
    "    frame: int,\n",
    "    show_ids=False,\n",
    "    fixed_frames=[],\n",
    "):\n",
    "    fig = plt.figure(figsize=(9, 9))\n",
    "    plt.suptitle(name)\n",
    "\n",
    "    ax = fig.add_subplot(111, projection=\"3d\")\n",
    "    ax.set_xlabel(\"X-axis\")\n",
    "    ax.set_ylabel(\"Y-axis\")\n",
    "    ax.set_zlabel(\"Z-axis\")\n",
    "\n",
    "    ax.view_init(elev=10, azim=25, vertical_axis=\"y\")\n",
    "    ax.axis(\"equal\")\n",
    "\n",
    "    ax.set_ylim(0, 2)\n",
    "    ax.set_xlim(-1, 1)\n",
    "    ax.set_zlim(-1, 1)\n",
    "\n",
    "    for i in range(samples_glb.shape[0]):\n",
    "        for chain in paramUtil.t2m_kinematic_chain:\n",
    "            ax.plot3D(\n",
    "                samples_glb[i, frame, chain, 0],\n",
    "                samples_glb[i, frame, chain, 1],\n",
    "                samples_glb[i, frame, chain, 2],\n",
    "                color=\"red\",\n",
    "                alpha=0.5,\n",
    "            )\n",
    "\n",
    "    for chain in paramUtil.t2m_kinematic_chain:\n",
    "        ax.plot3D(\n",
    "            groundtruth_glb[frame, chain, 0],\n",
    "            groundtruth_glb[frame, chain, 1],\n",
    "            groundtruth_glb[frame, chain, 2],\n",
    "            color=\"green\",\n",
    "            alpha=1 if frame in fixed_frames else 0.5,\n",
    "        )\n",
    "\n",
    "    if show_ids:\n",
    "        for joint_id in range(groundtruth_glb.shape[1]):\n",
    "            ax.text(\n",
    "                groundtruth_glb[frame, joint_id, 0],\n",
    "                groundtruth_glb[frame, joint_id, 1],\n",
    "                groundtruth_glb[frame, joint_id, 2],\n",
    "                f\"{joint_id}\",\n",
    "                color=\"black\",\n",
    "                fontsize=8,\n",
    "                alpha=0.5,\n",
    "            )\n",
    "\n",
    "    plt.show()"
   ]
  },
  {
   "cell_type": "code",
   "execution_count": 5,
   "metadata": {},
   "outputs": [],
   "source": [
    "def plot_interactive(\n",
    "    samples_glb: np.ndarray,\n",
    "    groundtruth_glb: np.ndarray,\n",
    "    name: str,\n",
    "    show_ids=False,\n",
    "    fixed_frames=[],\n",
    "):\n",
    "    @ipywidgets.interact(frame=(0, samples_glb.shape[1] - 1))\n",
    "    def plot(frame):\n",
    "        plot_motion(samples_glb, groundtruth_glb, name, frame, show_ids, fixed_frames)\n",
    "\n",
    "    return plot"
   ]
  },
  {
   "cell_type": "code",
   "execution_count": 6,
   "metadata": {},
   "outputs": [],
   "source": [
    "def plot_mask(name, feat_mask):\n",
    "    plt.figure(figsize=(8, 6))\n",
    "    plt.suptitle(name)\n",
    "    sns.heatmap(feat_mask[:, 0, :], cmap=\"viridis\", cbar=False)\n",
    "    plt.xlabel(\"Frames\")\n",
    "    plt.ylabel(\"Joints\")\n",
    "    plt.tight_layout()\n",
    "    plt.show()"
   ]
  },
  {
   "cell_type": "markdown",
   "metadata": {},
   "source": [
    "# Restoring the animation from the rotation vector\n",
    "\n",
    "1. **Input** the full HML3D feature vector `(n_rep, n_samples, n_frames, 263)`\n",
    "\n",
    "2. **Extract** root position and joint quaternions from the feature vector `(n_rep, n_samples, n_frames, n_joints, 4)`\n",
    "\n",
    "3. Apply **Forward Kinematics** to get the joint positions and plot\n",
    "\n",
    "4. **Export** as BVH"
   ]
  },
  {
   "cell_type": "markdown",
   "metadata": {},
   "source": [
    "## 1. Input Data"
   ]
  },
  {
   "cell_type": "markdown",
   "metadata": {},
   "source": [
    "First we load the example skeleton to get the offset values for the joints\n",
    "with which the dataset has been set up."
   ]
  },
  {
   "cell_type": "code",
   "execution_count": 7,
   "metadata": {},
   "outputs": [],
   "source": [
    "face_joint_indx = [2, 1, 17, 16]\n",
    "\n",
    "example_data = np.load(\"dataset/000021.npy\")\n",
    "example_data = example_data.reshape(len(example_data), -1, 3)\n",
    "example_data = torch.from_numpy(example_data)\n",
    "\n",
    "tgt_skel = Skeleton(\n",
    "    torch.from_numpy(paramUtil.t2m_raw_offsets), paramUtil.t2m_kinematic_chain, \"cpu\"\n",
    ")\n",
    "tgt_offsets = tgt_skel.get_offsets_joints(example_data[0])"
   ]
  },
  {
   "cell_type": "code",
   "execution_count": 8,
   "metadata": {},
   "outputs": [
    {
     "data": {
      "text/plain": [
       "(tensor([[ 0.0000,  0.0000,  0.0000],\n",
       "         [ 0.1031,  0.0000,  0.0000],\n",
       "         [-0.1099,  0.0000,  0.0000],\n",
       "         [ 0.0000,  0.1316,  0.0000],\n",
       "         [ 0.0000, -0.3936,  0.0000],\n",
       "         [ 0.0000, -0.3901,  0.0000],\n",
       "         [ 0.0000,  0.1432,  0.0000],\n",
       "         [ 0.0000, -0.4322,  0.0000],\n",
       "         [ 0.0000, -0.4257,  0.0000],\n",
       "         [ 0.0000,  0.0574,  0.0000],\n",
       "         [ 0.0000,  0.0000,  0.1434],\n",
       "         [ 0.0000,  0.0000,  0.1495],\n",
       "         [ 0.0000,  0.2193,  0.0000],\n",
       "         [ 0.1375,  0.0000,  0.0000],\n",
       "         [-0.1434,  0.0000,  0.0000],\n",
       "         [ 0.0000,  0.0000,  0.1031],\n",
       "         [ 0.0000, -0.1316,  0.0000],\n",
       "         [ 0.0000, -0.1230,  0.0000],\n",
       "         [ 0.0000, -0.2569,  0.0000],\n",
       "         [ 0.0000, -0.2631,  0.0000],\n",
       "         [ 0.0000, -0.2660,  0.0000],\n",
       "         [ 0.0000, -0.2697,  0.0000]]),\n",
       " torch.Size([22, 3]))"
      ]
     },
     "execution_count": 8,
     "metadata": {},
     "output_type": "execute_result"
    }
   ],
   "source": [
    "tgt_offsets, tgt_offsets.shape"
   ]
  },
  {
   "cell_type": "code",
   "execution_count": 9,
   "metadata": {},
   "outputs": [],
   "source": [
    "results_path = Path(\n",
    "    \"save/results/condmdi_random_joints/condsamples000750000__benchmark_sparse_T=20_CI=0_CRG=0_KGP=1.0_seed10/results.npy\"\n",
    "    # \"save/results/condmdi_random_joints/condsamples000750000__imputation_benchmark_clip_T=40_CI=0_CRG=0_KGP=1.0_seed10_person_throwing_a_ball/results.npy\"\n",
    "\n",
    ")\n",
    "results = np.load(results_path, allow_pickle=True).item()"
   ]
  },
  {
   "cell_type": "code",
   "execution_count": 10,
   "metadata": {},
   "outputs": [
    {
     "name": "stdout",
     "output_type": "stream",
     "text": [
      "sample (1, 10, 1, 196, 263)\n",
      "motion (1, 10, 22, 3, 196)\n",
      "text (10,)\n",
      "lengths (1, 10)\n",
      "num_samples 10\n",
      "num_repetitions 1\n",
      "observed_motion (10, 22, 3, 196)\n",
      "observed_mask (10, 22, 1, 196)\n"
     ]
    }
   ],
   "source": [
    "for k, v in results.items():\n",
    "    print(k, v.shape if hasattr(v, \"shape\") else v)\n"
   ]
  },
  {
   "cell_type": "code",
   "execution_count": 11,
   "metadata": {},
   "outputs": [
    {
     "data": {
      "text/plain": [
       "array([  0,  20,  40,  60,  80, 100, 120, 140, 160, 180])"
      ]
     },
     "execution_count": 11,
     "metadata": {},
     "output_type": "execute_result"
    }
   ],
   "source": [
    "rep_id = 0\n",
    "sample_id = 2\n",
    "\n",
    "# Frames where the root bone is observed/fixed\n",
    "fixed_frames = np.argwhere(results[\"observed_mask\"][sample_id, 0, 0, :] == 1).flatten()\n",
    "fixed_frames"
   ]
  },
  {
   "cell_type": "code",
   "execution_count": 12,
   "metadata": {},
   "outputs": [
    {
     "data": {
      "image/png": "[encoded data removed]",
      "text/plain": [
       "<Figure size 800x600 with 1 Axes>"
      ]
     },
     "metadata": {},
     "output_type": "display_data"
    }
   ],
   "source": [
    "plot_mask(f\"Joint Mask {sample_id}\", results[\"observed_mask\"][sample_id])\n"
   ]
  },
  {
   "cell_type": "markdown",
   "metadata": {},
   "source": [
    "### Testing the `quaternion` module"
   ]
  },
  {
   "cell_type": "code",
   "execution_count": 13,
   "metadata": {},
   "outputs": [
    {
     "name": "stdout",
     "output_type": "stream",
     "text": [
      "Matrix:\n",
      "[[1. 0. 0.]\n",
      " [0. 1. 0.]\n",
      " [0. 0. 1.]]\n",
      "\n",
      "Matrix as Quat (scalar-first):\n",
      "[1. 0. 0. 0.]\n",
      "\n",
      "Quat as Matrix:\n",
      "tensor([[1., 0., 0.],\n",
      "        [0., 1., 0.],\n",
      "        [0., 0., 1.]])\n",
      "\n",
      "Quat as Cont6D:\n",
      "tensor([1., 0., 0., 0., 1., 0.])\n",
      "\n",
      "Cont6D as Matrix:\n",
      "tensor([[1., 0., 0.],\n",
      "        [0., 1., 0.],\n",
      "        [0., 0., 1.]])\n",
      "\n",
      "----------------------------------------------------------------\n",
      "\n",
      "Matrix:\n",
      "[[ 0.67383375 -0.00367148  0.73887387]\n",
      " [ 0.66555373  0.43733485 -0.60479456]\n",
      " [-0.3209148   0.89929125  0.29713455]]\n",
      "\n",
      "Matrix as Quat (scalar-first):\n",
      "[0.77593543 0.48460405 0.34145518 0.21561885]\n",
      "\n",
      "Quat as Matrix:\n",
      "tensor([[ 0.6738, -0.0037,  0.7389],\n",
      "        [ 0.6656,  0.4373, -0.6048],\n",
      "        [-0.3209,  0.8993,  0.2971]])\n",
      "\n",
      "Quat as Cont6D:\n",
      "tensor([ 0.6738,  0.6656, -0.3209, -0.0037,  0.4373,  0.8993])\n",
      "\n",
      "Cont6D as Matrix:\n",
      "tensor([[ 0.6738, -0.0037,  0.7389],\n",
      "        [ 0.6656,  0.4373, -0.6048],\n",
      "        [-0.3209,  0.8993,  0.2971]])\n",
      "\n",
      "----------------------------------------------------------------\n",
      "\n"
     ]
    }
   ],
   "source": [
    "for i in range(2):\n",
    "    if i == 0:\n",
    "        rot = R.from_matrix(torch.eye(3))\n",
    "    else:\n",
    "        rot = R.random()\n",
    "    print(\"Matrix:\")\n",
    "    print(rot.as_matrix())\n",
    "    print(\"\")\n",
    "\n",
    "\n",
    "    print(\"Matrix as Quat (scalar-first):\")\n",
    "    rotquat = rot.as_quat()[[3, 0, 1, 2]]\n",
    "    print(rotquat)\n",
    "    print(\"\")\n",
    "\n",
    "    print(\"Quat as Matrix:\")\n",
    "    print(quaternion.quaternion_to_matrix(torch.Tensor(rotquat)))\n",
    "    print(\"\")\n",
    "\n",
    "    print(\"Quat as Cont6D:\")\n",
    "    # rot6d = rotation_conversions.matrix_to_rotation_6d(torch.Tensor(rot.as_matrix()))\n",
    "    rotquat6d = quaternion.quaternion_to_cont6d(torch.Tensor(rotquat))\n",
    "    # print(rot6d)\n",
    "    print(rotquat6d)\n",
    "    # print(torch.allclose(rot6d, rotquat6d, atol=1e-5))\n",
    "    print(\"\")\n",
    "\n",
    "    print(\"Cont6D as Matrix:\")\n",
    "    rot6d_mat = quaternion.cont6d_to_matrix(rotquat6d)\n",
    "    print(rot6d_mat)\n",
    "\n",
    "    # Roundtrip using `quaternion.*`\n",
    "    assert torch.allclose(rot6d_mat, torch.Tensor(rot.as_matrix()), atol=1e-5)\n",
    "\n",
    "    print(\"\\n----------------------------------------------------------------\\n\")\n"
   ]
  },
  {
   "cell_type": "markdown",
   "metadata": {},
   "source": [
    "## Extract & IK from the original faulty rotation representation"
   ]
  },
  {
   "cell_type": "code",
   "execution_count": 54,
   "metadata": {},
   "outputs": [
    {
     "name": "stdout",
     "output_type": "stream",
     "text": [
      "torch.Size([196, 22, 3, 1]) torch.Size([196, 22, 3, 3])\n"
     ]
    }
   ],
   "source": [
    "def recover_pos_from_rot(\n",
    "    data: torch.Tensor, joints_num: int, skeleton: Skeleton, abs_3d=False\n",
    "):\n",
    "    # Get root rotation and position\n",
    "    r_rot_quat, r_pos = recover_root_rot_pos(data, abs_3d=abs_3d)\n",
    "    r_rot_cont6d = quaternion.quaternion_to_cont6d(r_rot_quat)\n",
    "\n",
    "    # Extract rotations from feature vector\n",
    "    start_indx = 1 + 2 + 1 + (joints_num - 1) * 3\n",
    "    end_indx = start_indx + (joints_num - 1) * 6\n",
    "    cont6d_params = data[..., start_indx:end_indx]\n",
    "\n",
    "    # Combine root and joint rotations\n",
    "    cont6d_params = torch.cat([r_rot_cont6d, cont6d_params], dim=-1)\n",
    "    cont6d_params = cont6d_params.view(-1, joints_num, 6)\n",
    "\n",
    "    rotations = quaternion.cont6d_to_matrix(cont6d_params)\n",
    "    rotations = skeleton.convert_to_standard_convention_rotation(rotations)\n",
    "    # cont6d_params = quaternion.matrix_to_cont6d(rotations)\n",
    "\n",
    "    # Forward kinematics to get joint positions\n",
    "    global_pos, global_rot = skeleton.forward_kinematics_cont6d_standard(cont6d_params, r_pos)\n",
    "    # global_pos = skeleton.forward_kinematics_cont6d(cont6d_params, r_pos)\n",
    "\n",
    "    return global_pos, rotations\n",
    "\n",
    "pos_from_rot, rot = recover_pos_from_rot(\n",
    "    torch.from_numpy(results[\"sample\"][rep_id, sample_id]),\n",
    "    joints_num=22,\n",
    "    skeleton=tgt_skel,\n",
    "    abs_3d=True,\n",
    ")\n",
    "print(pos_from_rot.shape, rot.shape)"
   ]
  },
  {
   "cell_type": "code",
   "execution_count": 55,
   "metadata": {},
   "outputs": [
    {
     "data": {
      "application/vnd.jupyter.widget-view+json": {
       "model_id": "43e0e89475d24b56921fd6c8f70c9d2f",
       "version_major": 2,
       "version_minor": 0
      },
      "text/plain": [
       "interactive(children=(IntSlider(value=97, description='frame', max=195), Output()), _dom_classes=('widget-inte…"
      ]
     },
     "metadata": {},
     "output_type": "display_data"
    },
    {
     "data": {
      "text/plain": [
       "<function __main__.plot_interactive.<locals>.plot(frame)>"
      ]
     },
     "execution_count": 55,
     "metadata": {},
     "output_type": "execute_result"
    }
   ],
   "source": [
    "plot_interactive(\n",
    "    samples_glb=pos_from_rot.numpy()[None, ...],\n",
    "    groundtruth_glb=results[\"observed_motion\"][sample_id].transpose(2, 0, 1),\n",
    "    name=\"Pos Recovered from Rot\",\n",
    "    show_ids=False,\n",
    "    fixed_frames=fixed_frames,\n",
    ")"
   ]
  },
  {
   "cell_type": "code",
   "execution_count": 38,
   "metadata": {},
   "outputs": [],
   "source": [
    "\n",
    "def recover_rot_from_pos(\n",
    "    data: torch.Tensor, joints_num: int, skeleton: Skeleton, abs_3d=False, as_quat=False\n",
    "):\n",
    "    # Get root rotation and position\n",
    "    r_rot_quat, r_pos = recover_root_rot_pos(data, abs_3d=abs_3d)\n",
    "\n",
    "    # Extract joint positions from feature vector\n",
    "    start_indx = 1 + 2 + 1\n",
    "    end_indx = start_indx + (joints_num - 1) * 3\n",
    "    positions = data[..., start_indx:end_indx]\n",
    "    positions = positions.view(positions.shape[:-1] + (-1, 3))\n",
    "\n",
    "    \"\"\"Add Y-axis rotation to local joints\"\"\"\n",
    "    positions = quaternion.qrot(\n",
    "        quaternion.qinv(r_rot_quat[..., None, :]).expand(positions.shape[:-1] + (4,)),\n",
    "        positions,\n",
    "    )\n",
    "\n",
    "    \"\"\"Add root XZ to joints\"\"\"\n",
    "    positions[..., 0] += r_pos[..., 0:1]\n",
    "    positions[..., 2] += r_pos[..., 2:3]\n",
    "\n",
    "    \"\"\"Concate root and joints\"\"\"\n",
    "    positions = torch.cat([r_pos.unsqueeze(-2), positions], dim=-2)[0]\n",
    "\n",
    "    quat_wxyz = skeleton.inverse_kinematics_quat_standard_np(\n",
    "        positions.numpy(), face_joint_indx\n",
    "    )\n",
    "\n",
    "    quat_wxyz = torch.from_numpy(quat_wxyz).float()\n",
    "    rotations = quaternion.quaternion_to_matrix(quat_wxyz)\n",
    "\n",
    "    return positions, rotations, quat_wxyz"
   ]
  },
  {
   "cell_type": "code",
   "execution_count": 39,
   "metadata": {},
   "outputs": [
    {
     "name": "stdout",
     "output_type": "stream",
     "text": [
      "torch.Size([196, 22, 3]) torch.Size([196, 22, 3, 3]) torch.Size([196, 22, 4])\n"
     ]
    }
   ],
   "source": [
    "pos, rot_from_pos, quat_from_pos = recover_rot_from_pos(\n",
    "    torch.from_numpy(results[\"sample\"][rep_id, sample_id]),\n",
    "    joints_num=22,\n",
    "    skeleton=tgt_skel,\n",
    "    abs_3d=True,\n",
    ")\n",
    "print(pos.shape, rot_from_pos.shape, quat_from_pos.shape)"
   ]
  },
  {
   "cell_type": "code",
   "execution_count": 40,
   "metadata": {},
   "outputs": [
    {
     "data": {
      "application/vnd.jupyter.widget-view+json": {
       "model_id": "f52c89fa0f004964b0c9af634e2253c5",
       "version_major": 2,
       "version_minor": 0
      },
      "text/plain": [
       "interactive(children=(IntSlider(value=97, description='frame', max=195), Output()), _dom_classes=('widget-inte…"
      ]
     },
     "metadata": {},
     "output_type": "display_data"
    },
    {
     "data": {
      "text/plain": [
       "<function __main__.plot_interactive.<locals>.plot(frame)>"
      ]
     },
     "execution_count": 40,
     "metadata": {},
     "output_type": "execute_result"
    }
   ],
   "source": [
    "plot_interactive(\n",
    "    pos.numpy()[None, ...],\n",
    "    results[\"observed_motion\"][sample_id].transpose(2, 0, 1),\n",
    "    \"Recovered Pos\",\n",
    "    show_ids=False,\n",
    "    fixed_frames=fixed_frames,\n",
    ")"
   ]
  },
  {
   "cell_type": "markdown",
   "metadata": {},
   "source": [
    "---\n",
    "---\n",
    "---"
   ]
  },
  {
   "cell_type": "code",
   "execution_count": 41,
   "metadata": {},
   "outputs": [],
   "source": [
    "from convert.joints2bvh import BVH, Animation\n",
    "from convert.joints2bvh.Quaternions import Quaternions\n"
   ]
  },
  {
   "cell_type": "code",
   "execution_count": 42,
   "metadata": {},
   "outputs": [
    {
     "data": {
      "text/plain": [
       "(720, 22, 4)"
      ]
     },
     "execution_count": 42,
     "metadata": {},
     "output_type": "execute_result"
    }
   ],
   "source": [
    "anim = BVH.load(\"convert/joints2bvh/data/template.bvh\")\n",
    "anim.rotations.qs.shape"
   ]
  },
  {
   "cell_type": "code",
   "execution_count": null,
   "metadata": {},
   "outputs": [],
   "source": []
  }
 ],
 "metadata": {
  "kernelspec": {
   "display_name": "condmdi",
   "language": "python",
   "name": "python3"
  },
  "language_info": {
   "codemirror_mode": {
    "name": "ipython",
    "version": 3
   },
   "file_extension": ".py",
   "mimetype": "text/x-python",
   "name": "python",
   "nbconvert_exporter": "python",
   "pygments_lexer": "ipython3",
   "version": "3.9.19"
  }
 },
 "nbformat": 4,
 "nbformat_minor": 2
}
