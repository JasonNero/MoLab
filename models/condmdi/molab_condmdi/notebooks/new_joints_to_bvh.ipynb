{
 "cells": [
  {
   "cell_type": "code",
   "execution_count": 1,
   "metadata": {},
   "outputs": [
    {
     "name": "stdout",
     "output_type": "stream",
     "text": [
      "/Users/jason/repos/diffusion-motion-inbetweening\n"
     ]
    }
   ],
   "source": [
    "%cd .."
   ]
  },
  {
   "cell_type": "code",
   "execution_count": 2,
   "metadata": {},
   "outputs": [
    {
     "name": "stderr",
     "output_type": "stream",
     "text": [
      "/Users/jason/repos/diffusion-motion-inbetweening/convert/joints2bvh/InverseKinematics.py:2: UserWarning: A NumPy version >=1.22.4 and <2.3.0 is required for this version of SciPy (detected version 1.21.5)\n",
      "  import scipy.linalg as linalg\n"
     ]
    }
   ],
   "source": [
    "from pathlib import Path\n",
    "\n",
    "import numpy as np\n",
    "from convert.joints2bvh.joints2bvh import Joint2BVHConvertor\n",
    "from tqdm import tqdm"
   ]
  },
  {
   "cell_type": "markdown",
   "metadata": {},
   "source": [
    "# `new_joints` - New Joints\n",
    "- Shape: (F, J, 3)\n",
    "- Might contain various skeleton sizes\n",
    "- Easiest to plot"
   ]
  },
  {
   "cell_type": "code",
   "execution_count": 3,
   "metadata": {},
   "outputs": [],
   "source": [
    "base_path = Path(\"dataset/HumanML3D\")\n",
    "data_path = base_path / \"new_joints_abs_3d\"\n",
    "output_path = base_path / \"bvh\"\n",
    "output_path.mkdir(exist_ok=True)\n",
    "\n",
    "split_files = {\n",
    "    \"train\": base_path / \"train.txt\",\n",
    "    \"val\": base_path / \"val.txt\",\n",
    "    \"test\": base_path / \"test.txt\"\n",
    "}\n"
   ]
  },
  {
   "cell_type": "code",
   "execution_count": 4,
   "metadata": {},
   "outputs": [
    {
     "data": {
      "text/plain": [
       "{'train': 23384, 'val': 1460, 'test': 4384}"
      ]
     },
     "execution_count": 4,
     "metadata": {},
     "output_type": "execute_result"
    }
   ],
   "source": [
    "split_ids = {}\n",
    "\n",
    "for split, path in split_files.items():\n",
    "    with open(path, \"r\") as f:\n",
    "        split_ids[split] = f.read().splitlines()\n",
    "\n",
    "{split: len(ids) for split, ids in split_ids.items()}"
   ]
  },
  {
   "cell_type": "code",
   "execution_count": 8,
   "metadata": {},
   "outputs": [
    {
     "name": "stderr",
     "output_type": "stream",
     "text": [
      "Converting test: 100%|██████████| 32/32 [00:48<00:00,  1.50s/it]\n"
     ]
    }
   ],
   "source": [
    "converter = Joint2BVHConvertor()\n",
    "n_convert = 32\n",
    "iterations = 100\n",
    "splits = [\"test\"]\n",
    "\n",
    "for split in splits:\n",
    "    ids = split_ids[split]\n",
    "\n",
    "    if split in [\"train\", \"val\"]:\n",
    "        continue\n",
    "\n",
    "    split_dir = output_path / split\n",
    "    split_dir.mkdir(exist_ok=True)\n",
    "\n",
    "    for id in tqdm(ids[:n_convert], desc=f\"Converting {split}\"):\n",
    "\n",
    "        # Complex Debug Motion: Walk stairs up and down\n",
    "        # if id != \"002246\":\n",
    "        #     continue\n",
    "\n",
    "        npy_path = data_path / f\"{id}.npy\"\n",
    "        text_path = base_path / \"texts\" / f\"{id}.txt\"\n",
    "\n",
    "        with text_path.open(\"r\") as f:\n",
    "            first_text = f.readline().split(\"#\")[0]\n",
    "            first_text = first_text.replace(\" \", \"_\").replace(\":\", \"_\").replace(\".\", \"\").replace(\",\", \"\")\n",
    "\n",
    "        bvh_path = split_dir / f\"{id}_fromjoint{iterations}_{first_text}.bvh\"\n",
    "\n",
    "        joints = np.load(npy_path)\n",
    "        bvh = converter.convert(joints, bvh_path, iterations=iterations, foot_ik=False)\n"
   ]
  },
  {
   "cell_type": "code",
   "execution_count": 6,
   "metadata": {},
   "outputs": [
    {
     "data": {
      "application/vnd.jupyter.widget-view+json": {
       "model_id": "8cd933958d63461ab2e886581e637f29",
       "version_major": 2,
       "version_minor": 0
      },
      "text/plain": [
       "interactive(children=(IntSlider(value=0, description='frame', max=198), Output()), _dom_classes=('widget-inter…"
      ]
     },
     "metadata": {},
     "output_type": "display_data"
    }
   ],
   "source": [
    "import ipywidgets\n",
    "import matplotlib.pyplot as plt\n",
    "\n",
    "# from humanml/utils/paramUtil.py\n",
    "t2m_kinematic_chain = [[0, 2, 5, 8, 11], [0, 1, 4, 7, 10], [0, 3, 6, 9, 12, 15], [9, 14, 17, 19, 21], [9, 13, 16, 18, 20]]\n",
    "\n",
    "@ipywidgets.interact(frame=(0, joints.shape[0]-1))\n",
    "def plot(frame=0):\n",
    "    fig = plt.figure(figsize=(9, 9))\n",
    "    plt.suptitle(f\"{id}\")\n",
    "\n",
    "    ax = fig.add_subplot(111, projection='3d')\n",
    "    ax.set_xlabel('X-axis')\n",
    "    ax.set_ylabel('Y-axis')\n",
    "    ax.set_zlabel('Z-axis')\n",
    "\n",
    "    ax.view_init(elev=10, azim=35, vertical_axis=\"y\")\n",
    "    ax.axis(\"equal\")\n",
    "\n",
    "    ax.set_ylim(0, 2)\n",
    "    ax.set_xlim(-1, 1)\n",
    "    ax.set_zlim(-1, 1)\n",
    "\n",
    "    for chain in t2m_kinematic_chain:\n",
    "        ax.plot3D(\n",
    "            joints[frame, chain, 0],\n",
    "            joints[frame, chain, 1],\n",
    "            joints[frame, chain, 2],\n",
    "        )\n",
    "\n",
    "    plt.show()"
   ]
  }
 ],
 "metadata": {
  "kernelspec": {
   "display_name": "condmdi",
   "language": "python",
   "name": "python3"
  },
  "language_info": {
   "codemirror_mode": {
    "name": "ipython",
    "version": 3
   },
   "file_extension": ".py",
   "mimetype": "text/x-python",
   "name": "python",
   "nbconvert_exporter": "python",
   "pygments_lexer": "ipython3",
   "version": "3.9.19"
  }
 },
 "nbformat": 4,
 "nbformat_minor": 2
}
