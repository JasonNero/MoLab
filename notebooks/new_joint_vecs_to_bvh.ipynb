{
 "cells": [
  {
   "cell_type": "code",
   "execution_count": 1,
   "metadata": {},
   "outputs": [
    {
     "name": "stdout",
     "output_type": "stream",
     "text": [
      "/Users/jason/repos/diffusion-motion-inbetweening\n"
     ]
    }
   ],
   "source": [
    "%cd .."
   ]
  },
  {
   "cell_type": "code",
   "execution_count": 2,
   "metadata": {},
   "outputs": [
    {
     "name": "stderr",
     "output_type": "stream",
     "text": [
      "/Users/jason/repos/diffusion-motion-inbetweening/convert/joints2bvh/InverseKinematics.py:2: UserWarning: A NumPy version >=1.22.4 and <2.3.0 is required for this version of SciPy (detected version 1.21.5)\n",
      "  import scipy.linalg as linalg\n"
     ]
    }
   ],
   "source": [
    "from pathlib import Path\n",
    "\n",
    "from tqdm import tqdm\n",
    "import numpy as np\n",
    "import torch\n",
    "\n",
    "from convert.joints2bvh import BVH, Quaternions, Animation\n",
    "from convert.joints2bvh.joints2bvh import Joint2BVHConvertor, re_order, re_order_inv\n",
    "from convert.joints2bvh.InverseKinematics import BasicInverseKinematics\n",
    "\n",
    "from data_loaders.humanml.scripts.motion_process import recover_from_ric\n",
    "from data_loaders.humanml.common.skeleton import Skeleton"
   ]
  },
  {
   "cell_type": "markdown",
   "metadata": {},
   "source": [
    "# `new_joint_vecs` - Unified Feature Vectors for Skeletons\n",
    "\n",
    "- Shape (F, 263)"
   ]
  },
  {
   "cell_type": "code",
   "execution_count": 3,
   "metadata": {},
   "outputs": [],
   "source": [
    "base_path = Path(\"dataset/HumanML3D\")\n",
    "data_path = base_path / \"new_joint_vecs_abs_3d\"\n",
    "output_path = base_path / \"bvh\"\n",
    "output_path.mkdir(exist_ok=True)\n",
    "\n",
    "split_files = {\n",
    "    \"train\": base_path / \"train.txt\",\n",
    "    \"val\": base_path / \"val.txt\",\n",
    "    \"test\": base_path / \"test.txt\"\n",
    "}\n"
   ]
  },
  {
   "cell_type": "code",
   "execution_count": 4,
   "metadata": {},
   "outputs": [
    {
     "data": {
      "text/plain": [
       "{'train': 23384, 'val': 1460, 'test': 4384}"
      ]
     },
     "execution_count": 4,
     "metadata": {},
     "output_type": "execute_result"
    }
   ],
   "source": [
    "\n",
    "split_ids = {}\n",
    "\n",
    "for split, path in split_files.items():\n",
    "    with open(path, \"r\") as f:\n",
    "        split_ids[split] = f.read().splitlines()\n",
    "\n",
    "{split: len(ids) for split, ids in split_ids.items()}\n"
   ]
  },
  {
   "cell_type": "code",
   "execution_count": 20,
   "metadata": {},
   "outputs": [
    {
     "name": "stderr",
     "output_type": "stream",
     "text": [
      "  0%|          | 0/16 [00:00<?, ?it/s]"
     ]
    },
    {
     "name": "stdout",
     "output_type": "stream",
     "text": [
      "(199, 263)\n",
      "(199, 22, 3)\n",
      "Template exists: True\n"
     ]
    },
    {
     "name": "stderr",
     "output_type": "stream",
     "text": [
      "  6%|▋         | 1/16 [00:01<00:26,  1.78s/it]"
     ]
    },
    {
     "name": "stdout",
     "output_type": "stream",
     "text": [
      "(62, 263)\n",
      "(62, 22, 3)\n",
      "Template exists: True\n"
     ]
    },
    {
     "name": "stderr",
     "output_type": "stream",
     "text": [
      " 12%|█▎        | 2/16 [00:02<00:17,  1.22s/it]"
     ]
    },
    {
     "name": "stdout",
     "output_type": "stream",
     "text": [
      "(64, 263)\n",
      "(64, 22, 3)\n",
      "Template exists: True\n"
     ]
    },
    {
     "name": "stderr",
     "output_type": "stream",
     "text": [
      " 19%|█▉        | 3/16 [00:03<00:13,  1.03s/it]"
     ]
    },
    {
     "name": "stdout",
     "output_type": "stream",
     "text": [
      "(133, 263)\n",
      "(133, 22, 3)\n",
      "Template exists: True\n"
     ]
    },
    {
     "name": "stderr",
     "output_type": "stream",
     "text": [
      " 25%|██▌       | 4/16 [00:04<00:13,  1.15s/it]"
     ]
    },
    {
     "name": "stdout",
     "output_type": "stream",
     "text": [
      "(82, 263)\n",
      "(82, 22, 3)\n",
      "Template exists: True\n"
     ]
    },
    {
     "name": "stderr",
     "output_type": "stream",
     "text": [
      " 31%|███▏      | 5/16 [00:05<00:11,  1.06s/it]"
     ]
    },
    {
     "name": "stdout",
     "output_type": "stream",
     "text": [
      "(113, 263)\n",
      "(113, 22, 3)\n",
      "Template exists: True\n"
     ]
    },
    {
     "name": "stderr",
     "output_type": "stream",
     "text": [
      " 38%|███▊      | 6/16 [00:06<00:10,  1.08s/it]"
     ]
    },
    {
     "name": "stdout",
     "output_type": "stream",
     "text": [
      "(149, 263)\n",
      "(149, 22, 3)\n",
      "Template exists: True\n"
     ]
    },
    {
     "name": "stderr",
     "output_type": "stream",
     "text": [
      " 44%|████▍     | 7/16 [00:08<00:10,  1.20s/it]"
     ]
    },
    {
     "name": "stdout",
     "output_type": "stream",
     "text": [
      "(199, 263)\n",
      "(199, 22, 3)\n",
      "Template exists: True\n"
     ]
    },
    {
     "name": "stderr",
     "output_type": "stream",
     "text": [
      " 50%|█████     | 8/16 [00:10<00:11,  1.44s/it]"
     ]
    },
    {
     "name": "stdout",
     "output_type": "stream",
     "text": [
      "(199, 263)\n",
      "(199, 22, 3)\n",
      "Template exists: True\n"
     ]
    },
    {
     "name": "stderr",
     "output_type": "stream",
     "text": [
      " 56%|█████▋    | 9/16 [00:11<00:10,  1.55s/it]"
     ]
    },
    {
     "name": "stdout",
     "output_type": "stream",
     "text": [
      "(91, 263)\n",
      "(91, 22, 3)\n",
      "Template exists: True\n"
     ]
    },
    {
     "name": "stderr",
     "output_type": "stream",
     "text": [
      " 62%|██████▎   | 10/16 [00:12<00:08,  1.36s/it]"
     ]
    },
    {
     "name": "stdout",
     "output_type": "stream",
     "text": [
      "(101, 263)\n",
      "(101, 22, 3)\n",
      "Template exists: True\n"
     ]
    },
    {
     "name": "stderr",
     "output_type": "stream",
     "text": [
      " 69%|██████▉   | 11/16 [00:13<00:06,  1.26s/it]"
     ]
    },
    {
     "name": "stdout",
     "output_type": "stream",
     "text": [
      "(174, 263)\n",
      "(174, 22, 3)\n",
      "Template exists: True\n"
     ]
    },
    {
     "name": "stderr",
     "output_type": "stream",
     "text": [
      " 75%|███████▌  | 12/16 [00:15<00:05,  1.32s/it]"
     ]
    },
    {
     "name": "stdout",
     "output_type": "stream",
     "text": [
      "(199, 263)\n",
      "(199, 22, 3)\n",
      "Template exists: True\n"
     ]
    },
    {
     "name": "stderr",
     "output_type": "stream",
     "text": [
      " 81%|████████▏ | 13/16 [00:17<00:04,  1.49s/it]"
     ]
    },
    {
     "name": "stdout",
     "output_type": "stream",
     "text": [
      "(39, 263)\n",
      "(39, 22, 3)\n",
      "Template exists: True\n"
     ]
    },
    {
     "name": "stderr",
     "output_type": "stream",
     "text": [
      " 88%|████████▊ | 14/16 [00:17<00:02,  1.23s/it]"
     ]
    },
    {
     "name": "stdout",
     "output_type": "stream",
     "text": [
      "(144, 263)\n",
      "(144, 22, 3)\n",
      "Template exists: True\n"
     ]
    },
    {
     "name": "stderr",
     "output_type": "stream",
     "text": [
      " 94%|█████████▍| 15/16 [00:19<00:01,  1.24s/it]"
     ]
    },
    {
     "name": "stdout",
     "output_type": "stream",
     "text": [
      "(191, 263)\n",
      "(191, 22, 3)\n",
      "Template exists: True\n"
     ]
    },
    {
     "name": "stderr",
     "output_type": "stream",
     "text": [
      "100%|██████████| 16/16 [00:20<00:00,  1.31s/it]\n"
     ]
    }
   ],
   "source": [
    "converter = Joint2BVHConvertor()\n",
    "n_convert = 16\n",
    "iterations = 50\n",
    "\n",
    "for split, ids in split_ids.items():\n",
    "\n",
    "    if split in [\"train\", \"val\"]:\n",
    "        continue\n",
    "\n",
    "    split_dir = output_path / split\n",
    "    split_dir.mkdir(exist_ok=True)\n",
    "\n",
    "    for id in tqdm(ids[:n_convert]):\n",
    "        # if id != \"002246\":\n",
    "        #     continue\n",
    "\n",
    "        npy_path = data_path / f\"{id}.npy\"\n",
    "        text_path = base_path / \"texts\" / f\"{id}.txt\"\n",
    "\n",
    "        with text_path.open(\"r\") as f:\n",
    "            first_text = f.readline().split(\"#\")[0]\n",
    "            first_text = first_text.replace(\" \", \"_\").replace(\":\", \"_\").replace(\".\", \"\").replace(\",\", \"\")\n",
    "\n",
    "        bvh_path = split_dir / f\"{id}_fromvec{iterations}_{first_text}.bvh\"\n",
    "\n",
    "        sample = np.load(npy_path)\n",
    "        print(sample.shape)\n",
    "\n",
    "        joints = recover_from_ric(torch.from_numpy(sample), joints_num=22, abs_3d=True).numpy()\n",
    "        print(joints.shape)\n",
    "\n",
    "        bvh = converter.convert(joints, bvh_path, iterations=iterations, foot_ik=False)\n",
    "\n"
   ]
  },
  {
   "cell_type": "markdown",
   "metadata": {},
   "source": [
    "## Interactive Plot of last file"
   ]
  },
  {
   "cell_type": "code",
   "execution_count": 6,
   "metadata": {},
   "outputs": [
    {
     "data": {
      "application/vnd.jupyter.widget-view+json": {
       "model_id": "ee3a4ba3e8b94efe93a80a6d1f637886",
       "version_major": 2,
       "version_minor": 0
      },
      "text/plain": [
       "interactive(children=(IntSlider(value=130, description='frame', max=190), Output()), _dom_classes=('widget-int…"
      ]
     },
     "metadata": {},
     "output_type": "display_data"
    }
   ],
   "source": [
    "import matplotlib.pyplot as plt\n",
    "import ipywidgets\n",
    "\n",
    "# from humanml/utils/paramUtil.py\n",
    "t2m_kinematic_chain = [[0, 2, 5, 8, 11], [0, 1, 4, 7, 10], [0, 3, 6, 9, 12, 15], [9, 14, 17, 19, 21], [9, 13, 16, 18, 20]]\n",
    "\n",
    "@ipywidgets.interact(frame=(0, joints.shape[0]-1))\n",
    "def plot(frame=130):\n",
    "    fig = plt.figure(figsize=(9, 9))\n",
    "    plt.suptitle(f\"{id}\")\n",
    "\n",
    "    ax = fig.add_subplot(111, projection='3d')\n",
    "    ax.set_xlabel('X-axis')\n",
    "    ax.set_ylabel('Y-axis')\n",
    "    ax.set_zlabel('Z-axis')\n",
    "\n",
    "    ax.view_init(elev=10, azim=35, vertical_axis=\"y\")\n",
    "    ax.axis(\"equal\")\n",
    "\n",
    "    ax.set_ylim(0, 2)\n",
    "    ax.set_xlim(-1, 1)\n",
    "    ax.set_zlim(-1, 1)\n",
    "\n",
    "    for chain in t2m_kinematic_chain:\n",
    "        ax.plot3D(\n",
    "            joints[frame, chain, 0],\n",
    "            joints[frame, chain, 1],\n",
    "            joints[frame, chain, 2],\n",
    "        )\n",
    "\n",
    "\n",
    "    plt.show()"
   ]
  },
  {
   "cell_type": "markdown",
   "metadata": {},
   "source": [
    "---\n",
    "\n",
    "## Lookup of the original data from KIT\n",
    "\n",
    "002246.npy: `./pose_data/KIT/423/upstairs_downstairs01_poses.npy`"
   ]
  },
  {
   "cell_type": "code",
   "execution_count": 7,
   "metadata": {},
   "outputs": [
    {
     "data": {
      "text/plain": [
       "True"
      ]
     },
     "execution_count": 7,
     "metadata": {},
     "output_type": "execute_result"
    }
   ],
   "source": [
    "kit_npy_path = Path(\"../HumanML3D/pose_data/KIT/423/upstairs_downstairs01_poses.npy\")\n",
    "kit_npy_path.is_file()"
   ]
  },
  {
   "cell_type": "code",
   "execution_count": 8,
   "metadata": {},
   "outputs": [],
   "source": [
    "kit_joints = np.load(kit_npy_path)"
   ]
  },
  {
   "cell_type": "code",
   "execution_count": 9,
   "metadata": {},
   "outputs": [
    {
     "data": {
      "application/vnd.jupyter.widget-view+json": {
       "model_id": "883ed0dcdb7d4bd585d0ce1c21b37641",
       "version_major": 2,
       "version_minor": 0
      },
      "text/plain": [
       "interactive(children=(IntSlider(value=130, description='frame', max=191), Output()), _dom_classes=('widget-int…"
      ]
     },
     "metadata": {},
     "output_type": "display_data"
    }
   ],
   "source": [
    "import matplotlib.pyplot as plt\n",
    "import ipywidgets\n",
    "\n",
    "# from humanml/utils/paramUtil.py\n",
    "t2m_kinematic_chain = [[0, 2, 5, 8, 11], [0, 1, 4, 7, 10], [0, 3, 6, 9, 12, 15], [9, 14, 17, 19, 21], [9, 13, 16, 18, 20]]\n",
    "\n",
    "@ipywidgets.interact(frame=(0, kit_joints.shape[0]-1))\n",
    "def plot(frame=130):\n",
    "    fig = plt.figure(figsize=(9, 9))\n",
    "    plt.suptitle(f\"{id}\")\n",
    "\n",
    "    ax = fig.add_subplot(111, projection='3d')\n",
    "    ax.set_xlabel('X-axis')\n",
    "    ax.set_ylabel('Y-axis')\n",
    "    ax.set_zlabel('Z-axis')\n",
    "\n",
    "    ax.view_init(elev=10, azim=35, vertical_axis=\"y\")\n",
    "    ax.axis(\"equal\")\n",
    "\n",
    "    ax.set_ylim(0, 2)\n",
    "    ax.set_xlim(-1, 1)\n",
    "    ax.set_zlim(-1, 1)\n",
    "\n",
    "    for chain in t2m_kinematic_chain:\n",
    "        ax.plot3D(\n",
    "            kit_joints[frame, chain, 0],\n",
    "            kit_joints[frame, chain, 1],\n",
    "            kit_joints[frame, chain, 2],\n",
    "        )\n",
    "\n",
    "\n",
    "    plt.show()"
   ]
  },
  {
   "cell_type": "markdown",
   "metadata": {},
   "source": [
    "---\n",
    "\n",
    "## ~~TODO: Why does `TEST` produce a correct result while `fromvec` and `fromjoint` do not?~~\n",
    "### It was `foot_ik`.. always set it to `False` for now.\n",
    "\n",
    "---"
   ]
  },
  {
   "cell_type": "code",
   "execution_count": 18,
   "metadata": {},
   "outputs": [
    {
     "name": "stderr",
     "output_type": "stream",
     "text": [
      "  0%|          | 0/16 [00:00<?, ?it/s]"
     ]
    },
    {
     "name": "stdout",
     "output_type": "stream",
     "text": [
      "(191, 263)\n",
      "(191, 22, 3)\n"
     ]
    },
    {
     "name": "stderr",
     "output_type": "stream",
     "text": [
      "100%|██████████| 16/16 [00:02<00:00,  7.74it/s]\n"
     ]
    }
   ],
   "source": [
    "n_convert = 16\n",
    "iterations = 50\n",
    "\n",
    "\n",
    "template = BVH.load(\"convert/joints2bvh/data/template.bvh\", need_quater=True)\n",
    "\n",
    "\n",
    "for split, ids in split_ids.items():\n",
    "\n",
    "    if split in [\"train\", \"val\"]:\n",
    "        continue\n",
    "\n",
    "    split_dir = output_path / split\n",
    "    split_dir.mkdir(exist_ok=True)\n",
    "\n",
    "    for id in tqdm(ids[:n_convert]):\n",
    "        if id != \"002246\":\n",
    "            continue\n",
    "\n",
    "        npy_path = data_path / f\"{id}.npy\"\n",
    "        text_path = base_path / \"texts\" / f\"{id}.txt\"\n",
    "\n",
    "        with text_path.open(\"r\") as f:\n",
    "            first_text = f.readline().split(\"#\")[0]\n",
    "            first_text = first_text.replace(\" \", \"_\").replace(\":\", \"_\").replace(\".\", \"\").replace(\",\", \"\")\n",
    "\n",
    "        bvh_path = split_dir / f\"{id}_TEST2{iterations}_{first_text}.bvh\"\n",
    "\n",
    "        sample = np.load(npy_path)\n",
    "        print(sample.shape)\n",
    "\n",
    "        joints = recover_from_ric(torch.from_numpy(sample), joints_num=22, abs_3d=True).numpy()\n",
    "        print(joints.shape)\n",
    "\n",
    "        # ABOVE IS SAME AS BEFORE\n",
    "        # EXPANDING THE CONVERT FUNCTION BELOW\n",
    "\n",
    "        global_positions = joints[:, re_order]\n",
    "        new_anim = template.copy()\n",
    "        new_anim.rotations = Quaternions.Quaternions.id(global_positions.shape[:-1])\n",
    "        new_anim.positions = new_anim.positions[0:1].repeat(global_positions.shape[0], axis=-0)\n",
    "        new_anim.positions[:, 0] = global_positions[:, 0]  # For root global = local\n",
    "        # new_anim.offsets = offsets[re_order]\n",
    "\n",
    "        # Calculate quaternion rotations from global positions\n",
    "        ik_solver = BasicInverseKinematics(new_anim, global_positions, iterations=iterations, silent=True)\n",
    "        new_anim = ik_solver()\n",
    "\n",
    "        BVH.save(bvh_path, new_anim, names=new_anim.names, frametime=1 / 20, order='zyx', quater=True)\n",
    "\n"
   ]
  },
  {
   "cell_type": "markdown",
   "metadata": {},
   "source": [
    "---\n",
    "\n",
    "## Other"
   ]
  },
  {
   "cell_type": "code",
   "execution_count": 11,
   "metadata": {},
   "outputs": [],
   "source": [
    "t2m_raw_offsets = np.array(\n",
    "    [\n",
    "        [0, 0, 0],\n",
    "        [1, 0, 0],\n",
    "        [-1, 0, 0],\n",
    "        [0, 1, 0],\n",
    "        [0, -1, 0],\n",
    "        [0, -1, 0],\n",
    "        [0, 1, 0],\n",
    "        [0, -1, 0],\n",
    "        [0, -1, 0],\n",
    "        [0, 1, 0],\n",
    "        [0, 0, 1],\n",
    "        [0, 0, 1],\n",
    "        [0, 1, 0],\n",
    "        [1, 0, 0],\n",
    "        [-1, 0, 0],\n",
    "        [0, 0, 1],\n",
    "        [0, -1, 0],\n",
    "        [0, -1, 0],\n",
    "        [0, -1, 0],\n",
    "        [0, -1, 0],\n",
    "        [0, -1, 0],\n",
    "        [0, -1, 0],\n",
    "    ]\n",
    ")\n",
    "face_joint_indx = [2, 1, 17, 16]"
   ]
  },
  {
   "cell_type": "code",
   "execution_count": 12,
   "metadata": {},
   "outputs": [
    {
     "data": {
      "text/plain": [
       "[-1, 0, 0, 0, 1, 2, 3, 4, 5, 6, 7, 8, 9, 9, 9, 12, 13, 14, 16, 17, 18, 19]"
      ]
     },
     "execution_count": 12,
     "metadata": {},
     "output_type": "execute_result"
    }
   ],
   "source": [
    "parents = [0] * 22\n",
    "parents[0] = -1\n",
    "\n",
    "for chain in t2m_kinematic_chain:\n",
    "    for j in range(1, len(chain)):\n",
    "        parents[chain[j]] = chain[j-1]\n",
    "\n",
    "parents"
   ]
  },
  {
   "cell_type": "code",
   "execution_count": 13,
   "metadata": {},
   "outputs": [
    {
     "data": {
      "text/plain": [
       "tensor([[ 0.0000,  0.0000,  0.0000],\n",
       "        [ 0.1031,  0.0000,  0.0000],\n",
       "        [-0.1099,  0.0000,  0.0000],\n",
       "        [ 0.0000,  0.1316,  0.0000],\n",
       "        [ 0.0000, -0.3936,  0.0000],\n",
       "        [ 0.0000, -0.3902,  0.0000],\n",
       "        [ 0.0000,  0.1432,  0.0000],\n",
       "        [ 0.0000, -0.4324,  0.0000],\n",
       "        [ 0.0000, -0.4256,  0.0000],\n",
       "        [ 0.0000,  0.0574,  0.0000],\n",
       "        [ 0.0000,  0.0000,  0.1434],\n",
       "        [ 0.0000,  0.0000,  0.1494],\n",
       "        [ 0.0000,  0.2194,  0.0000],\n",
       "        [ 0.1375,  0.0000,  0.0000],\n",
       "        [-0.1434,  0.0000,  0.0000],\n",
       "        [ 0.0000,  0.0000,  0.1030],\n",
       "        [ 0.0000, -0.1316,  0.0000],\n",
       "        [ 0.0000, -0.1230,  0.0000],\n",
       "        [ 0.0000, -0.2568,  0.0000],\n",
       "        [ 0.0000, -0.2631,  0.0000],\n",
       "        [ 0.0000, -0.2660,  0.0000],\n",
       "        [ 0.0000, -0.2699,  0.0000]])"
      ]
     },
     "execution_count": 13,
     "metadata": {},
     "output_type": "execute_result"
    }
   ],
   "source": [
    "skel = Skeleton(torch.from_numpy(t2m_raw_offsets), t2m_kinematic_chain, \"cpu\")\n",
    "\n",
    "offset = skel.get_offsets_joints(torch.from_numpy(joints[0]))\n",
    "\n",
    "offset"
   ]
  },
  {
   "cell_type": "code",
   "execution_count": 14,
   "metadata": {},
   "outputs": [
    {
     "name": "stderr",
     "output_type": "stream",
     "text": [
      "/Users/jason/repos/diffusion-motion-inbetweening/data_loaders/humanml/common/quaternion.py:394: UserWarning: Using torch.cross without specifying the dim arg is deprecated.\n",
      "Please either pass the dim explicitly or simply use torch.linalg.cross.\n",
      "The default value of dim will change to agree with that of linalg.cross in a future release. (Triggered internally at /Users/runner/work/_temp/anaconda/conda-bld/pytorch_1720538194305/work/aten/src/ATen/native/Cross.cpp:66.)\n",
      "  v = torch.cross(v0, v1)\n"
     ]
    },
    {
     "data": {
      "text/plain": [
       "(191, 22, 4)"
      ]
     },
     "execution_count": 14,
     "metadata": {},
     "output_type": "execute_result"
    }
   ],
   "source": [
    "quats = skel.inverse_kinematics_np(joints, face_joint_indx)\n",
    "quats.shape"
   ]
  },
  {
   "cell_type": "code",
   "execution_count": 15,
   "metadata": {},
   "outputs": [],
   "source": [
    "names = [\n",
    "    \"Hips\",\n",
    "    \"LeftUpLeg\",\n",
    "    \"LeftLeg\",\n",
    "    \"LeftFoot\",\n",
    "    \"LeftToe\",\n",
    "    \"RightUpLeg\",\n",
    "    \"RightLeg\",\n",
    "    \"RightFoot\",\n",
    "    \"RightToe\",\n",
    "    \"Spine\",\n",
    "    \"Spine1\",\n",
    "    \"Spine2\",\n",
    "    \"Neck\",\n",
    "    \"Head\",\n",
    "    \"LeftShoulder\",\n",
    "    \"LeftArm\",\n",
    "    \"LeftForeArm\",\n",
    "    \"LeftHand\",\n",
    "    \"RightShoulder\",\n",
    "    \"RightArm\",\n",
    "    \"RightForeArm\",\n",
    "    \"RightHand\",\n",
    "]"
   ]
  },
  {
   "cell_type": "code",
   "execution_count": null,
   "metadata": {},
   "outputs": [],
   "source": []
  }
 ],
 "metadata": {
  "kernelspec": {
   "display_name": "condmdi",
   "language": "python",
   "name": "python3"
  },
  "language_info": {
   "codemirror_mode": {
    "name": "ipython",
    "version": 3
   },
   "file_extension": ".py",
   "mimetype": "text/x-python",
   "name": "python",
   "nbconvert_exporter": "python",
   "pygments_lexer": "ipython3",
   "version": "3.9.19"
  }
 },
 "nbformat": 4,
 "nbformat_minor": 2
}
