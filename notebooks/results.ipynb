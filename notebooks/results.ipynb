{
 "cells": [
  {
   "cell_type": "code",
   "execution_count": 1,
   "metadata": {},
   "outputs": [
    {
     "name": "stdout",
     "output_type": "stream",
     "text": [
      "/Users/jason/repos/diffusion-motion-inbetweening\n"
     ]
    }
   ],
   "source": [
    "%cd .."
   ]
  },
  {
   "cell_type": "code",
   "execution_count": 2,
   "metadata": {},
   "outputs": [
    {
     "name": "stderr",
     "output_type": "stream",
     "text": [
      "/opt/homebrew/Caskroom/miniforge/base/envs/condmdi/lib/python3.9/site-packages/seaborn/_statistics.py:32: UserWarning: A NumPy version >=1.22.4 and <2.3.0 is required for this version of SciPy (detected version 1.21.5)\n",
      "  from scipy.stats import gaussian_kde\n",
      "<frozen importlib._bootstrap>:228: RuntimeWarning: scipy._lib.messagestream.MessageStream size changed, may indicate binary incompatibility. Expected 56 from C header, got 64 from PyObject\n"
     ]
    }
   ],
   "source": [
    "import numpy as np\n",
    "from pathlib import Path\n",
    "import seaborn as sns\n",
    "import matplotlib.pyplot as plt\n",
    "import warnings\n",
    "import ipywidgets\n",
    "\n",
    "warnings.filterwarnings(\"once\")"
   ]
  },
  {
   "cell_type": "code",
   "execution_count": 3,
   "metadata": {},
   "outputs": [],
   "source": [
    "# %matplotlib --list\n",
    "# %matplotlib qt6"
   ]
  },
  {
   "cell_type": "code",
   "execution_count": 4,
   "metadata": {},
   "outputs": [],
   "source": [
    "results_path = Path(\n",
    "    \"save/results/condmdi_random_joints/condsamples000750000__imputation_benchmark_clip_T=40_CI=0_CRG=0_KGP=1.0_seed10_person_throwing_a_ball/results.npy\"\n",
    ")\n"
   ]
  },
  {
   "cell_type": "code",
   "execution_count": 5,
   "metadata": {},
   "outputs": [],
   "source": [
    "results = np.load(results_path, allow_pickle=True).item()"
   ]
  },
  {
   "cell_type": "code",
   "execution_count": 6,
   "metadata": {},
   "outputs": [
    {
     "name": "stdout",
     "output_type": "stream",
     "text": [
      "'sample' shape: (3, 1, 1, 196, 263)\n",
      "'motion' shape: (3, 1, 22, 3, 196)\n",
      "'text' shape: (3,)\n",
      "'lengths' shape: (3, 1)\n",
      "'num_samples' value: 1\n",
      "'num_repetitions' value: 3\n",
      "'observed_motion' shape: (1, 22, 3, 196)\n",
      "'observed_mask' shape: (1, 22, 1, 196)\n",
      "'pre_y' value: -0.03444706425401248\n",
      "'pre_xz' shape: (3,)\n",
      "'pre_rot' shape: (196, 22, 4)\n"
     ]
    }
   ],
   "source": [
    "for key, value in results.items():\n",
    "    if type(value) == np.ndarray:\n",
    "        print(f\"'{key}' shape: {value.shape}\")\n",
    "    else:\n",
    "        print(f\"'{key}' value: {value}\")"
   ]
  },
  {
   "cell_type": "markdown",
   "metadata": {},
   "source": [
    "## Numpy Format\n",
    "\n",
    "| Key | Shape |\n",
    "| --- | --- |\n",
    "| `motion` | `[num_rep, num_samples, 22, 3, n_frames]` |\n",
    "| `observed_motion` | `[num_samples, 22, 3, n_frames]` |\n",
    "| `observed_mask` | `[num_samples, 22, 1, n_frames]` |\n",
    "| `lengths` | `[num_rep, num_samples]` |\n",
    "| `text` | `[num_rep, num_samples]` |\n",
    "\n",
    "where\n",
    "- `num_rep = 3`\n",
    "- `num_samples = 10`\n",
    "- `n_frames = 196` (maximum is 196, can be lower)\n",
    "- `n_joints = 22` (smpl joints)\n"
   ]
  },
  {
   "cell_type": "code",
   "execution_count": 7,
   "metadata": {},
   "outputs": [],
   "source": [
    "from data_loaders.humanml.utils.paramUtil import t2m_kinematic_chain, t2m_raw_offsets"
   ]
  },
  {
   "cell_type": "code",
   "execution_count": 8,
   "metadata": {},
   "outputs": [
    {
     "name": "stdout",
     "output_type": "stream",
     "text": [
      "(3, 196, 22, 3) (22, 1, 196) (196, 22, 3)\n"
     ]
    }
   ],
   "source": [
    "samples = results[\"sample\"]\n",
    "sampled_motions = results[\"motion\"][:, 0].transpose(0, 3, 1, 2)\n",
    "observed_mask = results[\"observed_mask\"][0]\n",
    "observed_motion = results[\"observed_motion\"][0].transpose(2,0,1)\n",
    "\n",
    "num_samples = sampled_motions.shape[0]\n",
    "\n",
    "print(sampled_motions.shape, observed_mask.shape, observed_motion.shape)"
   ]
  },
  {
   "cell_type": "code",
   "execution_count": 9,
   "metadata": {},
   "outputs": [],
   "source": [
    "def plot_mask(name, feat_mask):\n",
    "    plt.figure(figsize=(8, 6))\n",
    "    plt.suptitle(name)\n",
    "    sns.heatmap(feat_mask[:, 0, :], cmap=\"viridis\", cbar=False)\n",
    "    plt.xlabel(\"Frames\")\n",
    "    plt.ylabel(\"Joints\")\n",
    "    plt.tight_layout()\n",
    "    plt.show()"
   ]
  },
  {
   "cell_type": "code",
   "execution_count": 76,
   "metadata": {},
   "outputs": [
    {
     "data": {
      "image/png": "[encoded data removed]",
      "text/plain": [
       "<Figure size 800x600 with 1 Axes>"
      ]
     },
     "metadata": {},
     "output_type": "display_data"
    }
   ],
   "source": [
    "plot_mask(\"Observed Mask\", observed_mask)"
   ]
  },
  {
   "cell_type": "code",
   "execution_count": 11,
   "metadata": {},
   "outputs": [
    {
     "data": {
      "text/plain": [
       "array([ 78,  79,  80,  81,  82,  83,  84,  85,  86,  87,  88,  89,  90,\n",
       "        91,  92,  93,  94,  95,  96,  97,  98,  99, 100, 101, 102, 103,\n",
       "       104, 105, 106, 107, 108, 109, 110, 111, 112, 113, 114, 115, 116,\n",
       "       117])"
      ]
     },
     "execution_count": 11,
     "metadata": {},
     "output_type": "execute_result"
    }
   ],
   "source": [
    "# Get frames, where the mask for root is 0\n",
    "np.argwhere(observed_mask[0, 0, :] == 0).flatten()"
   ]
  },
  {
   "cell_type": "code",
   "execution_count": 12,
   "metadata": {},
   "outputs": [],
   "source": []
  },
  {
   "cell_type": "code",
   "execution_count": 13,
   "metadata": {},
   "outputs": [
    {
     "name": "stderr",
     "output_type": "stream",
     "text": [
      "/opt/homebrew/Caskroom/miniforge/base/envs/condmdi/lib/python3.9/site-packages/ipywidgets/widgets/interaction.py:43: DeprecationWarning: `ipykernel.pylab.backend_inline` is deprecated, directly use `matplotlib_inline.backend_inline`\n",
      "  from ipykernel.pylab.backend_inline import flush_figures\n"
     ]
    },
    {
     "data": {
      "application/vnd.jupyter.widget-view+json": {
       "model_id": "e26573a3537b4ab0a3ad11884691393e",
       "version_major": 2,
       "version_minor": 0
      },
      "text/plain": [
       "interactive(children=(IntSlider(value=78, description='frame', max=195), Output()), _dom_classes=('widget-inte…"
      ]
     },
     "metadata": {},
     "output_type": "display_data"
    }
   ],
   "source": [
    "@ipywidgets.interact(frame=(0, 195))\n",
    "def plot(frame=78):\n",
    "    fig = plt.figure(figsize=(9, 9))\n",
    "    plt.suptitle(f\"{results_path.parent.name}\\nGT: Orange\\n Samples: Other colors\")\n",
    "\n",
    "    ax = fig.add_subplot(111, projection='3d')\n",
    "    ax.set_xlabel('X-axis')\n",
    "    ax.set_ylabel('Y-axis')\n",
    "    ax.set_zlabel('Z-axis')\n",
    "\n",
    "    ax.view_init(elev=10, azim=25, vertical_axis=\"y\")\n",
    "    ax.axis(\"equal\")\n",
    "\n",
    "    ax.set_ylim(0, 2)\n",
    "    ax.set_xlim(-1, 1)\n",
    "    ax.set_zlim(-1, 1)\n",
    "\n",
    "    colors = [\"cyan\", \"lightblue\", \"lightgreen\"]\n",
    "\n",
    "    for i, col in enumerate(colors):\n",
    "        for chain in t2m_kinematic_chain:\n",
    "            ax.plot3D(\n",
    "                sampled_motions[i, frame, chain, 0],\n",
    "                sampled_motions[i, frame, chain, 1],\n",
    "                sampled_motions[i, frame, chain, 2],\n",
    "                color=col,\n",
    "            )\n",
    "\n",
    "    for chain in t2m_kinematic_chain:\n",
    "        ax.plot3D(\n",
    "            observed_motion[frame, chain, 0],\n",
    "            observed_motion[frame, chain, 1],\n",
    "            observed_motion[frame, chain, 2],\n",
    "            color=\"orange\",\n",
    "        )\n",
    "\n",
    "    plt.show()"
   ]
  },
  {
   "cell_type": "markdown",
   "metadata": {},
   "source": [
    "---\n",
    "\n",
    "## Comparing the two `recover_from` functions"
   ]
  },
  {
   "cell_type": "code",
   "execution_count": 14,
   "metadata": {},
   "outputs": [
    {
     "name": "stderr",
     "output_type": "stream",
     "text": [
      "/Users/jason/repos/diffusion-motion-inbetweening/data_loaders/humanml/common/quaternion.py:13: DeprecationWarning: `np.float` is a deprecated alias for the builtin `float`. To silence this warning, use `float` by itself. Doing this will not modify any behavior and is safe. If you specifically wanted the numpy scalar type, use `np.float64` here.\n",
      "Deprecated in NumPy 1.20; for more details and guidance: https://numpy.org/devdocs/release/1.20.0-notes.html#deprecations\n",
      "  _FLOAT_EPS = np.finfo(np.float).eps\n"
     ]
    }
   ],
   "source": [
    "from data_loaders.humanml.scripts.motion_process import recover_from_ric, recover_root_rot_pos, recover_from_rot\n",
    "from data_loaders.humanml.common.skeleton import Skeleton\n",
    "import torch"
   ]
  },
  {
   "cell_type": "code",
   "execution_count": 15,
   "metadata": {},
   "outputs": [
    {
     "data": {
      "text/plain": [
       "((3, 1, 1, 196, 263), (3, 1, 196, 263))"
      ]
     },
     "execution_count": 15,
     "metadata": {},
     "output_type": "execute_result"
    }
   ],
   "source": [
    "samples.shape, samples.squeeze(1).shape"
   ]
  },
  {
   "cell_type": "code",
   "execution_count": 16,
   "metadata": {},
   "outputs": [
    {
     "data": {
      "text/plain": [
       "torch.Size([3, 196, 22, 3])"
      ]
     },
     "execution_count": 16,
     "metadata": {},
     "output_type": "execute_result"
    }
   ],
   "source": [
    "motion_from_ric = recover_from_ric(torch.from_numpy(samples.squeeze(1)), 22, abs_3d=True)\n",
    "motion_from_ric = motion_from_ric.squeeze(1)\n",
    "motion_from_ric.shape"
   ]
  },
  {
   "cell_type": "code",
   "execution_count": 17,
   "metadata": {},
   "outputs": [],
   "source": [
    "example_data = np.load(\"dataset/000021.npy\")\n",
    "example_data = example_data.reshape(len(example_data), -1, 3)\n",
    "example_data = torch.from_numpy(example_data)\n",
    "\n",
    "tgt_skel = Skeleton(torch.from_numpy(t2m_raw_offsets), t2m_kinematic_chain, \"cpu\")\n",
    "tgt_offsets = tgt_skel.get_offsets_joints(example_data[0])"
   ]
  },
  {
   "cell_type": "code",
   "execution_count": 18,
   "metadata": {},
   "outputs": [
    {
     "name": "stdout",
     "output_type": "stream",
     "text": [
      "torch.Size([3, 196, 22, 3])\n"
     ]
    }
   ],
   "source": [
    "motion_from_rot = []\n",
    "for sample in samples:\n",
    "    my_skel = Skeleton(\n",
    "        torch.from_numpy(t2m_raw_offsets), t2m_kinematic_chain, \"cpu\"\n",
    "    )\n",
    "    my_skel.set_offset(tgt_offsets)\n",
    "\n",
    "    _motion_from_rot = recover_from_rot(\n",
    "        torch.from_numpy(sample), 22, my_skel, abs_3d=True\n",
    "    )\n",
    "    _motion_from_rot = _motion_from_rot.squeeze(1)\n",
    "    motion_from_rot.append(_motion_from_rot)\n",
    "\n",
    "motion_from_rot = torch.stack(motion_from_rot)\n",
    "print(motion_from_rot.shape)"
   ]
  },
  {
   "cell_type": "code",
   "execution_count": 19,
   "metadata": {},
   "outputs": [
    {
     "data": {
      "application/vnd.jupyter.widget-view+json": {
       "model_id": "df93db7db37142909d1c06c51cb023f4",
       "version_major": 2,
       "version_minor": 0
      },
      "text/plain": [
       "interactive(children=(IntSlider(value=78, description='frame', max=195), Output()), _dom_classes=('widget-inte…"
      ]
     },
     "metadata": {},
     "output_type": "display_data"
    }
   ],
   "source": [
    "@ipywidgets.interact(frame=(0, 195))\n",
    "def plot(frame=78):\n",
    "    fig = plt.figure(figsize=(9, 9))\n",
    "    plt.suptitle(f\"{results_path.parent.name}\\nBlue: from_ric\\nRed: from_rot\\nGreen: GT\")\n",
    "\n",
    "    ax = fig.add_subplot(111, projection='3d')\n",
    "    ax.set_xlabel('X-axis')\n",
    "    ax.set_ylabel('Y-axis')\n",
    "    ax.set_zlabel('Z-axis')\n",
    "\n",
    "    ax.view_init(elev=10, azim=25, vertical_axis=\"y\")\n",
    "    ax.axis(\"equal\")\n",
    "\n",
    "    ax.set_ylim(0, 2)\n",
    "    ax.set_xlim(-1, 1)\n",
    "    ax.set_zlim(-1, 1)\n",
    "\n",
    "\n",
    "    for i in range(motion_from_ric.shape[0]):\n",
    "        for chain in t2m_kinematic_chain:\n",
    "            ax.plot3D(\n",
    "                motion_from_ric[i, frame, chain, 0],\n",
    "                motion_from_ric[i, frame, chain, 1],\n",
    "                motion_from_ric[i, frame, chain, 2],\n",
    "                color=\"blue\",\n",
    "                alpha=0.5,\n",
    "            )\n",
    "            ax.plot3D(\n",
    "                motion_from_rot[i, frame, chain, 0],\n",
    "                motion_from_rot[i, frame, chain, 1],\n",
    "                motion_from_rot[i, frame, chain, 2],\n",
    "                color=\"red\",\n",
    "                alpha=0.5,\n",
    "            )\n",
    "\n",
    "    for chain in t2m_kinematic_chain:\n",
    "        ax.plot3D(\n",
    "            observed_motion[frame, chain, 0],\n",
    "            observed_motion[frame, chain, 1],\n",
    "            observed_motion[frame, chain, 2],\n",
    "            color=\"green\",\n",
    "            alpha=0.5,\n",
    "        )\n",
    "\n",
    "    plt.show()"
   ]
  },
  {
   "cell_type": "markdown",
   "metadata": {},
   "source": [
    "## Positional Data seems to (mostly) match, what about rotational?"
   ]
  },
  {
   "cell_type": "code",
   "execution_count": 20,
   "metadata": {},
   "outputs": [],
   "source": [
    "from scipy.spatial.transform import Rotation as R\n",
    "from data_loaders.humanml.common.quaternion import quaternion_to_cont6d, qrot, qinv, cont6d_to_matrix, quaternion_to_matrix\n",
    "face_joint_indx = [2, 1, 17, 16]"
   ]
  },
  {
   "cell_type": "code",
   "execution_count": 21,
   "metadata": {},
   "outputs": [],
   "source": [
    "\n",
    "def recover_cont6d_from_rot(data, joints_num, abs_3d=False):\n",
    "    r_rot_quat, r_pos = recover_root_rot_pos(data, abs_3d=abs_3d)\n",
    "\n",
    "    r_rot_cont6d = quaternion_to_cont6d(r_rot_quat)\n",
    "\n",
    "    start_indx = 1 + 2 + 1 + (joints_num - 1) * 3\n",
    "    end_indx = start_indx + (joints_num - 1) * 6\n",
    "    cont6d_params = data[..., start_indx:end_indx]\n",
    "    #     print(r_rot_cont6d.shape, cont6d_params.shape, r_pos.shape)\n",
    "    cont6d_params = torch.cat([r_rot_cont6d, cont6d_params], dim=-1)\n",
    "    cont6d_params = cont6d_params.view(-1, joints_num, 6)\n",
    "\n",
    "    # positions = skeleton.forward_kinematics_cont6d(cont6d_params, r_pos)\n",
    "\n",
    "    return cont6d_params\n",
    "\n",
    "def recover_quat_from_rot(data, joints_num, abs_3d=False):\n",
    "    r_rot_quat, r_pos = recover_root_rot_pos(data, abs_3d=abs_3d)\n",
    "\n",
    "    r_rot_cont6d = quaternion_to_cont6d(r_rot_quat)\n",
    "\n",
    "    start_indx = 1 + 2 + 1 + (joints_num - 1) * 3\n",
    "    end_indx = start_indx + (joints_num - 1) * 6\n",
    "    cont6d_params = data[..., start_indx:end_indx]\n",
    "    #     print(r_rot_cont6d.shape, cont6d_params.shape, r_pos.shape)\n",
    "    cont6d_params = torch.cat([r_rot_cont6d, cont6d_params], dim=-1)\n",
    "    cont6d_params = cont6d_params.view(-1, joints_num, 6)\n",
    "\n",
    "    mat_params = cont6d_to_matrix(cont6d_params)\n",
    "\n",
    "    quat_params = []\n",
    "    for i in range(mat_params.shape[0]):\n",
    "        # scipy quat is scalar-last aka xyzw\n",
    "        # therefore we need to convert to wxyz\n",
    "        quat_params.append(R.from_matrix(mat_params[i].numpy()).as_quat()[..., [3, 0, 1, 2]])\n",
    "\n",
    "    quat_params = torch.from_numpy(np.stack(quat_params)).float()\n",
    "    return quat_params"
   ]
  },
  {
   "cell_type": "code",
   "execution_count": 22,
   "metadata": {},
   "outputs": [],
   "source": [
    "def recover_cont6d_from_ric(data, joints_num, skeleton: Skeleton, abs_3d=False):\n",
    "    r_rot_quat, r_pos = recover_root_rot_pos(data, abs_3d=abs_3d)\n",
    "    positions = data[..., 4:(joints_num - 1) * 3 + 4]\n",
    "    positions = positions.view(positions.shape[:-1] + (-1, 3))\n",
    "\n",
    "    '''Add Y-axis rotation to local joints'''\n",
    "    positions = qrot(qinv(r_rot_quat[..., None, :]).expand(positions.shape[:-1] + (4,)), positions)\n",
    "\n",
    "    '''Add root XZ to joints'''\n",
    "    positions[..., 0] += r_pos[..., 0:1]\n",
    "    positions[..., 2] += r_pos[..., 2:3]\n",
    "\n",
    "    '''Concate root and joints'''\n",
    "    positions = torch.cat([r_pos.unsqueeze(-2), positions], dim=-2)\n",
    "\n",
    "    quat_params = skeleton.inverse_kinematics_np(positions.numpy(), face_joint_indx, fixed=True)\n",
    "    cont6d_params = quaternion_to_cont6d(torch.from_numpy(quat_params))\n",
    "\n",
    "    return cont6d_params.float()\n",
    "\n",
    "def recover_quat_from_ric(data, joints_num, skeleton: Skeleton, abs_3d=False):\n",
    "    r_rot_quat, r_pos = recover_root_rot_pos(data, abs_3d=abs_3d)\n",
    "    positions = data[..., 4:(joints_num - 1) * 3 + 4]\n",
    "    positions = positions.view(positions.shape[:-1] + (-1, 3))\n",
    "\n",
    "    '''Add Y-axis rotation to local joints'''\n",
    "    positions = qrot(qinv(r_rot_quat[..., None, :]).expand(positions.shape[:-1] + (4,)), positions)\n",
    "\n",
    "    '''Add root XZ to joints'''\n",
    "    positions[..., 0] += r_pos[..., 0:1]\n",
    "    positions[..., 2] += r_pos[..., 2:3]\n",
    "\n",
    "    '''Concate root and joints'''\n",
    "    positions = torch.cat([r_pos.unsqueeze(-2), positions], dim=-2)\n",
    "\n",
    "    quat_params = skeleton.inverse_kinematics_np(positions.numpy(), face_joint_indx, fixed=True)\n",
    "\n",
    "    return torch.from_numpy(quat_params).float()"
   ]
  },
  {
   "cell_type": "code",
   "execution_count": 23,
   "metadata": {},
   "outputs": [
    {
     "data": {
      "text/plain": [
       "(torch.Size([196, 22, 6]), torch.float32)"
      ]
     },
     "execution_count": 23,
     "metadata": {},
     "output_type": "execute_result"
    }
   ],
   "source": [
    "cont6d_from_rot = recover_cont6d_from_rot(torch.from_numpy(samples[0,0,0]), 22, abs_3d=True)\n",
    "cont6d_from_rot.shape, cont6d_from_rot.dtype"
   ]
  },
  {
   "cell_type": "code",
   "execution_count": 24,
   "metadata": {},
   "outputs": [
    {
     "name": "stderr",
     "output_type": "stream",
     "text": [
      "/Users/jason/repos/diffusion-motion-inbetweening/data_loaders/humanml/common/skeleton.py:72: RuntimeWarning: invalid value encountered in true_divide\n",
      "  across = across / np.sqrt((across**2).sum(axis=-1))[:, np.newaxis]\n",
      "/Users/jason/repos/diffusion-motion-inbetweening/data_loaders/humanml/common/quaternion.py:394: UserWarning: Using torch.cross without specifying the dim arg is deprecated.\n",
      "Please either pass the dim explicitly or simply use torch.linalg.cross.\n",
      "The default value of dim will change to agree with that of linalg.cross in a future release. (Triggered internally at /Users/runner/work/_temp/anaconda/conda-bld/pytorch_1720538194305/work/aten/src/ATen/native/Cross.cpp:66.)\n",
      "  v = torch.cross(v0, v1)\n"
     ]
    },
    {
     "data": {
      "text/plain": [
       "(torch.Size([196, 22, 6]), torch.float32)"
      ]
     },
     "execution_count": 24,
     "metadata": {},
     "output_type": "execute_result"
    }
   ],
   "source": [
    "cont6d_from_ric = recover_cont6d_from_ric(torch.from_numpy(samples[0,0,0]), 22, my_skel, abs_3d=True)\n",
    "cont6d_from_ric.shape, cont6d_from_ric.dtype"
   ]
  },
  {
   "cell_type": "code",
   "execution_count": 25,
   "metadata": {},
   "outputs": [
    {
     "data": {
      "text/plain": [
       "(torch.Size([196, 22, 4]), torch.float32)"
      ]
     },
     "execution_count": 25,
     "metadata": {},
     "output_type": "execute_result"
    }
   ],
   "source": [
    "quat_from_rot = recover_quat_from_rot(torch.from_numpy(samples[0,0,0]), 22, abs_3d=True)\n",
    "quat_from_rot.shape, quat_from_rot.dtype"
   ]
  },
  {
   "cell_type": "code",
   "execution_count": 26,
   "metadata": {},
   "outputs": [
    {
     "data": {
      "text/plain": [
       "(torch.Size([196, 22, 4]), torch.float32)"
      ]
     },
     "execution_count": 26,
     "metadata": {},
     "output_type": "execute_result"
    }
   ],
   "source": [
    "quat_from_ric = recover_quat_from_ric(torch.from_numpy(samples[0,0,0]), 22, my_skel, abs_3d=True)\n",
    "quat_from_ric.shape, quat_from_ric.dtype"
   ]
  },
  {
   "cell_type": "code",
   "execution_count": 27,
   "metadata": {},
   "outputs": [
    {
     "name": "stdout",
     "output_type": "stream",
     "text": [
      "[([0.0, 0.0, 0.0], [0.0, 0.0, 0.0]), ([-2.0026043429129508, 3.84551116686242, -55.00492531828771], [-2.002604485683502, 3.8455113141430046, -55.004923683641884]), ([1.3696397308984962, 2.851092973448103, 51.311336020191405], [1.3696396695741768, 2.8510927904103363, 51.31133259877846]), ([-16.490429240051007, 0.09329476806669626, 0.6438148834889897], [-16.4904297348736, 0.09329478029762106, 0.6438149013069818]), ([-1.540482900694417, -3.814664282292471, 56.004474728755326], [-1.540482442412558, -3.8146638513906934, 56.004466158943615]), ([-23.352975067982833, -4.186111062858521, -58.18929218150684], [-23.35297344623169, -4.186110307373658, -58.18929135852491]), ([18.44701262780942, 0.27307323369734604, -1.2150844874772124], [18.447011474494502, 0.27307323893379853, -1.215084582741331]), ([17.017383703667118, 1.2462262126990848, -9.614756125468869], [17.017384801851318, 1.2462263866678434, -9.61475667342073]), ([25.228908368356784, 0.5789005495790646, 2.3602649053947804], [25.22890789395585, 0.578900459384068, 2.3602648055336455]), ([27.883385880421056, 0.13444752664219142, 0.0591670739368511], [27.883385880437928, 0.13444753853353475, 0.059167083084899236]), ([21.36836703711879, 33.32999907425869, 9.711090897492523], [21.368364868022898, 33.33000151652383, 9.71109126225668]), ([31.188077626415026, -1.2294083567602105, 4.591487202860936], [31.188080284778454, -1.229408548343835, 4.591487277275773]), ([-33.04613740303342, -1.7625874716158596, -2.5801191779462695], [-33.04613159657299, -1.7625871378248896, -2.580118777995523]), ([-14.88050654896417, 29.203611986072936, 47.45731070746858], [-14.880506390073121, 29.203611246212812, 47.457307076583696]), ([-11.184505968282297, -31.013751386438795, -55.54381816607478], [-11.184503907814722, -31.01374916287573, -55.543816079546666]), ([-57.78709409759998, -5.789453119140419, 6.582904582610007], [-57.7870935635677, -5.789453961741311, 6.582905141386987]), ([-29.98990439528908, 14.643137775876294, 25.906508526001776], [-29.98990407221923, 14.643135102873384, 25.90650607647514]), ([-19.804144903848556, -10.426256353386004, -35.32357858106165], [-19.804146432261366, -10.426257516166071, -35.323582376393745]), ([-4.46289582267915, 19.28136908467886, -78.665797631182], [-4.462895740803098, 19.28136774984763, -78.66580181232825]), ([-13.952095995882583, -13.786898895698197, 94.16034432621575], [-13.952096020241989, -13.786899454384306, 94.16034208305469]), ([-68.788471188478, -36.80904747491313, -87.17791630449814], [-68.78846639236056, -36.80905374808905, -87.17791764046291]), ([-89.87489130141994, 36.29996202597425, 60.02723615464504], [-89.8748988344524, 36.299962323739535, 60.02723481110129])]\n"
     ]
    },
    {
     "data": {
      "text/plain": [
       "True"
      ]
     },
     "execution_count": 27,
     "metadata": {},
     "output_type": "execute_result"
    }
   ],
   "source": [
    "mat_from_ric1 = cont6d_to_matrix(cont6d_from_ric)\n",
    "mat_from_ric2 = quaternion_to_matrix(quat_from_ric)\n",
    "ric1 = R.from_matrix(mat_from_ric1[0].numpy())\n",
    "ric2 = R.from_matrix(mat_from_ric2[0].numpy())\n",
    "print(list(zip(ric1.as_euler(\"xyz\", degrees=True).tolist(), ric2.as_euler(\"xyz\", degrees=True).tolist())))\n",
    "np.allclose(ric1.as_euler(\"xyz\", degrees=True), ric2.as_euler(\"xyz\", degrees=True))"
   ]
  },
  {
   "cell_type": "code",
   "execution_count": 28,
   "metadata": {},
   "outputs": [
    {
     "name": "stdout",
     "output_type": "stream",
     "text": [
      "[([0.0, 0.0, 0.0], [0.0, 0.0, 0.0]), ([-2.002604553131604, 3.845511454333598, -55.004923552407824], [-0.03495204578126454, 0.06711684130051987, -0.9600170233487062]), ([1.369639801490777, 2.8510926224707136, 51.31133095973326], [0.023904721880875, 0.04976095181237161, 0.8955516234162928]), ([-16.49042924001432, 0.09329477473681559, 0.6438148825224669], [-0.2878122939438364, 0.0016283009561663953, 0.01123668886988416]), ([-1.5404826480023053, -3.8146640466161674, 56.00446766489243], [-0.026886494426786256, -0.06657844917831723, 0.9774623426172392]), ([-23.352975067982833, -4.186111062858521, -58.18929218150684], [-0.40758633167824926, -0.0730614293795222, -1.015594734656839]), ([18.447010920024315, 0.2730732362616746, -1.2150844912377938], [0.3219610527466724, 0.004766026622060826, -0.021207224576415884]), ([17.017385414063465, 1.246226213637132, -9.614756979293992], [0.2970093949056639, 0.021750751230676713, -0.16780917633071227]), ([25.228909128707794, 0.5789004838031836, 2.3602644041817133], [0.4403275458642168, 0.010103717811641655, 0.041194386731305044]), ([27.88338929554666, 0.1344475423421472, 0.05916708872674842], [0.486656964619272, 0.0023465522399936933, 0.0010326604899579817]), ([21.368364033126422, 33.33000053083372, 9.711090813466267], [0.37294828803774255, 0.5817182004197279, 0.16949049344651917]), ([31.188081028535485, -1.2294088098137241, 4.591487267152756], [0.5443347642922167, -0.02145723634127683, 0.0801365778724839]), ([-33.04613399316739, -1.7625872887249072, -2.5801189408650647], [-0.576763792435955, -0.030762950605285333, -0.045031572617750704]), ([3.8272955464301948, 7.5783139024171975, 53.54040438549395], [0.06679891269127636, 0.13226652296703278, 0.9344563694933395]), ([4.164545248490882, -7.110855437865754, -60.66943206915822], [0.07268502548271055, -0.12410783345295706, -1.058881319587158]), ([-57.78709599489249, -5.789453301559352, 6.58290466148997], [-1.0085751059111376, -0.10104501142279365, 0.11489335702036307]), ([-29.989899785767605, 14.643136513139218, 25.90650293872524], [-0.5234225520350498, 0.2555709502408037, 0.4521537569181022]), ([-19.804144028531493, -10.42625803877058, -35.32358191431108], [-0.3456475360686336, -0.18197253339896946, -0.6165127649277882]), ([-4.462899536537847, 19.281364381696047, -78.66579700765183], [-0.07789231209326208, 0.3365232929696511, -1.37297718248263]), ([-13.952094680525622, -13.786898092739968, 94.16033891769283], [-0.2435099741490142, -0.2406267683491119, 1.6434078692307454]), ([-68.78847816856565, -36.80905669699688, -87.17792678275198], [-1.2005853906896191, -0.6424392602881709, -1.521541926438072]), ([-89.87490098570467, 36.29996450739716, 60.027233419790655], [-1.5686129104103221, 0.6335539719858558, 1.0476729383070233])]\n"
     ]
    },
    {
     "data": {
      "text/plain": [
       "True"
      ]
     },
     "execution_count": 28,
     "metadata": {},
     "output_type": "execute_result"
    }
   ],
   "source": [
    "mat_from_rot1 = cont6d_to_matrix(cont6d_from_rot)  # cont6d -> matrix\n",
    "mat_from_rot2 = quaternion_to_matrix(quat_from_rot)  # cont6d -> matrix -> quat -> matrix\n",
    "rot1 = R.from_matrix(mat_from_rot1[0].numpy())\n",
    "rot2 = R.from_matrix(mat_from_rot2[0].numpy())\n",
    "\n",
    "print(list(zip(rot1.as_euler(\"xyz\", degrees=True).tolist(), rot2.as_euler(\"xyz\", degrees=False).tolist())))\n",
    "np.allclose(rot1.as_euler(\"xyz\", degrees=True), rot2.as_euler(\"xyz\", degrees=True))"
   ]
  },
  {
   "cell_type": "code",
   "execution_count": 29,
   "metadata": {},
   "outputs": [
    {
     "data": {
      "text/plain": [
       "False"
      ]
     },
     "execution_count": 29,
     "metadata": {},
     "output_type": "execute_result"
    }
   ],
   "source": [
    "mat_from_rot3 = []\n",
    "for f in range(195):\n",
    "    _mat = R.from_quat(quat_from_rot[f].numpy()).as_matrix()\n",
    "    mat_from_rot3.append(_mat)\n",
    "mat_from_rot3 = torch.tensor(np.stack(mat_from_rot3))\n",
    "rot3 = R.from_matrix(mat_from_rot3[0].numpy())\n",
    "\n",
    "np.allclose(rot1.as_euler(\"xyz\", degrees=True), rot3.as_euler(\"xyz\", degrees=True))"
   ]
  },
  {
   "cell_type": "code",
   "execution_count": 30,
   "metadata": {},
   "outputs": [
    {
     "data": {
      "text/plain": [
       "False"
      ]
     },
     "execution_count": 30,
     "metadata": {},
     "output_type": "execute_result"
    }
   ],
   "source": [
    "np.allclose(rot1.as_euler(\"xyz\", degrees=True), ric1.as_euler(\"xyz\", degrees=True))"
   ]
  },
  {
   "cell_type": "code",
   "execution_count": 31,
   "metadata": {},
   "outputs": [
    {
     "data": {
      "text/plain": [
       "False"
      ]
     },
     "execution_count": 31,
     "metadata": {},
     "output_type": "execute_result"
    }
   ],
   "source": [
    "np.allclose(rot2.as_euler(\"xyz\", degrees=True), ric2.as_euler(\"xyz\", degrees=True))"
   ]
  },
  {
   "cell_type": "code",
   "execution_count": 32,
   "metadata": {},
   "outputs": [],
   "source": [
    "from data_loaders.humanml.common.quaternion import quaternion_to_matrix_np\n",
    "\n",
    "\n",
    "for i in range(30):\n",
    "    # NOTE: scipy uses scalar-last `xyzw` format for quaternions\n",
    "    #       while this repo uses the `wxyz` format\n",
    "    test_quat = R.random().as_quat()\n",
    "    test_cont6d = quaternion_to_cont6d(torch.from_numpy(test_quat[..., [3, 0, 1, 2]]))\n",
    "\n",
    "    test_mat1 = R.from_quat(test_quat).as_matrix()\n",
    "    # test_mat2 = quaternion_to_matrix_np(test_quat)\n",
    "    test_mat3 = quaternion_to_matrix_np(test_quat[..., [3, 0, 1, 2]])\n",
    "    test_mat4 = cont6d_to_matrix(test_cont6d).numpy()\n",
    "    try:\n",
    "        # assert np.allclose(test_mat1, test_mat2)\n",
    "        assert np.allclose(test_mat1, test_mat3), f\"test_mat1 != test_mat3\"\n",
    "        assert np.allclose(test_mat1, test_mat4), f\"test_mat1 != test_mat4\"\n",
    "    except AssertionError as e:\n",
    "        print(e)\n",
    "        print(test_quat)\n",
    "        print(test_cont6d)\n",
    "        print(\"test_mat1:\")\n",
    "        print(test_mat1)\n",
    "        # print(\"test_mat2:\")\n",
    "        # print(test_mat2)\n",
    "        print(\"test_mat3:\")\n",
    "        print(test_mat3)\n",
    "        print(\"test_mat4:\")\n",
    "        print(test_mat4)\n"
   ]
  },
  {
   "cell_type": "markdown",
   "metadata": {},
   "source": [
    "---\n",
    "\n",
    "## Try exporting those rotations as BVH and see if they match\n",
    "\n",
    "- Take Root Position from above\n",
    "- Export once with `from_ric` and once `from_rot`\n",
    "\n",
    "---"
   ]
  },
  {
   "cell_type": "code",
   "execution_count": 33,
   "metadata": {},
   "outputs": [],
   "source": [
    "from convert.joints2bvh import BVH, Animation\n",
    "from convert.joints2bvh.Quaternions import Quaternions\n",
    "\n",
    "\n",
    "def convert(root_pos, rotations, filename):\n",
    "\n",
    "    re_order = [0, 1, 4, 7, 10, 2, 5, 8, 11, 3, 6, 9, 12, 15, 13, 16, 18, 20, 14, 17, 19, 21]\n",
    "    re_order_inv = [0, 1, 5, 9, 2, 6, 10, 3, 7, 11, 4, 8, 12, 14, 18, 13, 15, 19, 16, 20, 17, 21]\n",
    "\n",
    "    new_anim = BVH.load(\"convert/joints2bvh/data/template.bvh\", need_quater=True)\n",
    "    new_anim.positions = new_anim.positions[0:1].repeat(rotations.shape[0], axis=-0)\n",
    "    new_anim.positions[:, 0] = root_pos\n",
    "    new_anim.rotations = Quaternions(rotations[:, re_order])\n",
    "\n",
    "    BVH.save(filename, new_anim, names=new_anim.names, frametime=1 / 20, order='zyx', quater=True)\n",
    "    glb = Animation.positions_global(new_anim)[:, re_order_inv]\n",
    "    return new_anim, glb"
   ]
  },
  {
   "cell_type": "code",
   "execution_count": 34,
   "metadata": {},
   "outputs": [
    {
     "data": {
      "text/plain": [
       "torch.Size([3, 1, 1, 196, 3])"
      ]
     },
     "execution_count": 34,
     "metadata": {},
     "output_type": "execute_result"
    }
   ],
   "source": [
    "_, r_pos = recover_root_rot_pos(torch.from_numpy(samples), abs_3d=True)\n",
    "r_pos.shape"
   ]
  },
  {
   "cell_type": "code",
   "execution_count": 35,
   "metadata": {},
   "outputs": [],
   "source": [
    "anim_from_rot, glb_from_rot = convert(\n",
    "    r_pos[0, 0, 0, :-1].numpy(),\n",
    "    quat_from_rot[:-1].numpy(),\n",
    "    f\"test_from_rot.bvh\"\n",
    ")"
   ]
  },
  {
   "cell_type": "code",
   "execution_count": 36,
   "metadata": {},
   "outputs": [],
   "source": [
    "anim_from_ric, glb_from_ric = convert(\n",
    "    r_pos[0, 0, 0, :-1].numpy(),\n",
    "    quat_from_ric[:-1].numpy(),\n",
    "    f\"test_from_ric.bvh\"\n",
    ")"
   ]
  },
  {
   "cell_type": "code",
   "execution_count": 37,
   "metadata": {},
   "outputs": [
    {
     "data": {
      "application/vnd.jupyter.widget-view+json": {
       "model_id": "7c7775f2e4314ab1ab1547d69fe6f163",
       "version_major": 2,
       "version_minor": 0
      },
      "text/plain": [
       "interactive(children=(IntSlider(value=78, description='frame', max=195), Output()), _dom_classes=('widget-inte…"
      ]
     },
     "metadata": {},
     "output_type": "display_data"
    }
   ],
   "source": [
    "@ipywidgets.interact(frame=(0, 195))\n",
    "def plot(frame=78):\n",
    "    fig = plt.figure(figsize=(9, 9))\n",
    "    plt.suptitle(f\"{results_path.parent.name}\\nBlue: from_ric\\nRed: from_rot\\nGreen: GT\")\n",
    "\n",
    "    ax = fig.add_subplot(111, projection='3d')\n",
    "    ax.set_xlabel('X-axis')\n",
    "    ax.set_ylabel('Y-axis')\n",
    "    ax.set_zlabel('Z-axis')\n",
    "\n",
    "    ax.view_init(elev=10, azim=25, vertical_axis=\"y\")\n",
    "    ax.axis(\"equal\")\n",
    "\n",
    "    ax.set_ylim(0, 2)\n",
    "    ax.set_xlim(-1, 1)\n",
    "    ax.set_zlim(-1, 1)\n",
    "\n",
    "    for chain in t2m_kinematic_chain:\n",
    "        ax.plot3D(\n",
    "            glb_from_ric[frame, chain, 0],\n",
    "            glb_from_ric[frame, chain, 1],\n",
    "            glb_from_ric[frame, chain, 2],\n",
    "            color=\"blue\",\n",
    "            alpha=0.5,\n",
    "        )\n",
    "        ax.plot3D(\n",
    "            glb_from_rot[frame, chain, 0],\n",
    "            glb_from_rot[frame, chain, 1],\n",
    "            glb_from_rot[frame, chain, 2],\n",
    "            color=\"red\",\n",
    "            alpha=0.5,\n",
    "        )\n",
    "\n",
    "    for chain in t2m_kinematic_chain:\n",
    "        ax.plot3D(\n",
    "            observed_motion[frame, chain, 0],\n",
    "            observed_motion[frame, chain, 1],\n",
    "            observed_motion[frame, chain, 2],\n",
    "            color=\"green\",\n",
    "            alpha=0.5,\n",
    "        )\n",
    "\n",
    "    plt.show()"
   ]
  },
  {
   "cell_type": "markdown",
   "metadata": {},
   "source": [
    "---\n",
    "\n",
    "## Convert Combined\n",
    "- Initialize with position\n",
    "- Use Rotations for the rest"
   ]
  },
  {
   "cell_type": "code",
   "execution_count": 38,
   "metadata": {},
   "outputs": [],
   "source": [
    "def convert_posrot_to_bvh(positions, rotations, filename):\n",
    "\n",
    "    re_order = [0, 1, 4, 7, 10, 2, 5, 8, 11, 3, 6, 9, 12, 15, 13, 16, 18, 20, 14, 17, 19, 21]\n",
    "    re_order_inv = [0, 1, 5, 9, 2, 6, 10, 3, 7, 11, 4, 8, 12, 14, 18, 13, 15, 19, 16, 20, 17, 21]\n",
    "\n",
    "    new_anim = BVH.load(\"convert/joints2bvh/data/template.bvh\", need_quater=True)\n",
    "    new_anim.positions = new_anim.positions[0:1].repeat(rotations.shape[0], axis=-0)\n",
    "    new_anim.positions[:, 0] = positions[:, 0]\n",
    "    new_anim.rotations = Quaternions(rotations[:, re_order])\n",
    "\n",
    "    # TODO: This makes no sense, our positions are global, be here we would need local positions\n",
    "    # new_anim.positions = positions[:, re_order]\n",
    "\n",
    "\n",
    "\n",
    "    BVH.save(filename, new_anim, names=new_anim.names, frametime=1 / 20, order='zyx', quater=True)\n",
    "    glb = Animation.positions_global(new_anim)[:, re_order_inv]\n",
    "\n",
    "    assert np.allclose(glb, positions)\n",
    "\n",
    "    return new_anim, glb\n"
   ]
  },
  {
   "cell_type": "code",
   "execution_count": 66,
   "metadata": {},
   "outputs": [],
   "source": [
    "def convert_to_bvh_using_skel_offsets(positions, rotations, filename):\n",
    "\n",
    "    re_order = [0, 1, 4, 7, 10, 2, 5, 8, 11, 3, 6, 9, 12, 15, 13, 16, 18, 20, 14, 17, 19, 21]\n",
    "    re_order_inv = [0, 1, 5, 9, 2, 6, 10, 3, 7, 11, 4, 8, 12, 14, 18, 13, 15, 19, 16, 20, 17, 21]\n",
    "\n",
    "    template_anim = BVH.load(\"convert/joints2bvh/data/template.bvh\", need_quater=True)\n",
    "    names = [template_anim.names[i] for i in re_order_inv]\n",
    "    # names = template_anim.names\n",
    "    orients = template_anim.orients[re_order_inv]\n",
    "    # orients = template_anim.orients\n",
    "    parents = template_anim.parents[re_order_inv]\n",
    "    # parents = template_anim.parents\n",
    "\n",
    "    offsets = tgt_offsets\n",
    "\n",
    "    new_anim = Animation.Animation(\n",
    "        Quaternions(rotations),\n",
    "        positions,\n",
    "        orients,\n",
    "        offsets,\n",
    "        parents,\n",
    "        names,\n",
    "        frametime=1 / 20,\n",
    "    )\n",
    "\n",
    "    BVH.save(filename, new_anim, names=new_anim.names, frametime=1 / 20, order='zyx', quater=True)\n",
    "    glb = Animation.positions_global(new_anim)[:, re_order]\n",
    "\n",
    "    # assert np.allclose(glb, positions)\n",
    "\n",
    "    return new_anim, glb\n"
   ]
  },
  {
   "cell_type": "code",
   "execution_count": 67,
   "metadata": {},
   "outputs": [
    {
     "data": {
      "text/plain": [
       "((195, 22, 3), torch.Size([196, 22, 4]))"
      ]
     },
     "execution_count": 67,
     "metadata": {},
     "output_type": "execute_result"
    }
   ],
   "source": [
    "glb_from_ric.shape, quat_from_ric.shape"
   ]
  },
  {
   "cell_type": "code",
   "execution_count": 74,
   "metadata": {},
   "outputs": [
    {
     "data": {
      "text/plain": [
       "((1, 195, 3), (195, 22, 4))"
      ]
     },
     "execution_count": 74,
     "metadata": {},
     "output_type": "execute_result"
    }
   ],
   "source": [
    "r_pos[0, 0, 0, :-1].numpy().shape, quat_from_rot[:-1].numpy().shape,"
   ]
  },
  {
   "cell_type": "code",
   "execution_count": 75,
   "metadata": {},
   "outputs": [
    {
     "ename": "IndexError",
     "evalue": "index 1 is out of bounds for axis 0 with size 1",
     "output_type": "error",
     "traceback": [
      "\u001b[0;31m---------------------------------------------------------------------------\u001b[0m",
      "\u001b[0;31mIndexError\u001b[0m                                Traceback (most recent call last)",
      "Cell \u001b[0;32mIn[75], line 1\u001b[0m\n\u001b[0;32m----> 1\u001b[0m posrot_skel_anim, posrot_skel_glb \u001b[38;5;241m=\u001b[39m \u001b[43mconvert_to_bvh_using_skel_offsets\u001b[49m\u001b[43m(\u001b[49m\n\u001b[1;32m      2\u001b[0m \u001b[43m    \u001b[49m\u001b[43mr_pos\u001b[49m\u001b[43m[\u001b[49m\u001b[38;5;241;43m0\u001b[39;49m\u001b[43m,\u001b[49m\u001b[43m \u001b[49m\u001b[38;5;241;43m0\u001b[39;49m\u001b[43m,\u001b[49m\u001b[43m \u001b[49m\u001b[43m:\u001b[49m\u001b[43m,\u001b[49m\u001b[43m \u001b[49m\u001b[43m:\u001b[49m\u001b[38;5;241;43m-\u001b[39;49m\u001b[38;5;241;43m1\u001b[39;49m\u001b[43m]\u001b[49m\u001b[38;5;241;43m.\u001b[39;49m\u001b[43mnumpy\u001b[49m\u001b[43m(\u001b[49m\u001b[43m)\u001b[49m\u001b[43m,\u001b[49m\n\u001b[1;32m      3\u001b[0m \u001b[43m    \u001b[49m\u001b[43mquat_from_rot\u001b[49m\u001b[43m[\u001b[49m\u001b[43m:\u001b[49m\u001b[38;5;241;43m-\u001b[39;49m\u001b[38;5;241;43m1\u001b[39;49m\u001b[43m]\u001b[49m\u001b[38;5;241;43m.\u001b[39;49m\u001b[43mnumpy\u001b[49m\u001b[43m(\u001b[49m\u001b[43m)\u001b[49m\u001b[43m,\u001b[49m\n\u001b[1;32m      4\u001b[0m \u001b[43m    \u001b[49m\u001b[38;5;124;43mf\u001b[39;49m\u001b[38;5;124;43m\"\u001b[39;49m\u001b[38;5;124;43mtest_posrot_skel.bvh\u001b[39;49m\u001b[38;5;124;43m\"\u001b[39;49m\n\u001b[1;32m      5\u001b[0m \u001b[43m)\u001b[49m\n",
      "Cell \u001b[0;32mIn[66], line 26\u001b[0m, in \u001b[0;36mconvert_to_bvh_using_skel_offsets\u001b[0;34m(positions, rotations, filename)\u001b[0m\n\u001b[1;32m     14\u001b[0m offsets \u001b[38;5;241m=\u001b[39m tgt_offsets\n\u001b[1;32m     16\u001b[0m new_anim \u001b[38;5;241m=\u001b[39m Animation\u001b[38;5;241m.\u001b[39mAnimation(\n\u001b[1;32m     17\u001b[0m     Quaternions(rotations),\n\u001b[1;32m     18\u001b[0m     positions,\n\u001b[0;32m   (...)\u001b[0m\n\u001b[1;32m     23\u001b[0m     frametime\u001b[38;5;241m=\u001b[39m\u001b[38;5;241m1\u001b[39m \u001b[38;5;241m/\u001b[39m \u001b[38;5;241m20\u001b[39m,\n\u001b[1;32m     24\u001b[0m )\n\u001b[0;32m---> 26\u001b[0m \u001b[43mBVH\u001b[49m\u001b[38;5;241;43m.\u001b[39;49m\u001b[43msave\u001b[49m\u001b[43m(\u001b[49m\u001b[43mfilename\u001b[49m\u001b[43m,\u001b[49m\u001b[43m \u001b[49m\u001b[43mnew_anim\u001b[49m\u001b[43m,\u001b[49m\u001b[43m \u001b[49m\u001b[43mnames\u001b[49m\u001b[38;5;241;43m=\u001b[39;49m\u001b[43mnew_anim\u001b[49m\u001b[38;5;241;43m.\u001b[39;49m\u001b[43mnames\u001b[49m\u001b[43m,\u001b[49m\u001b[43m \u001b[49m\u001b[43mframetime\u001b[49m\u001b[38;5;241;43m=\u001b[39;49m\u001b[38;5;241;43m1\u001b[39;49m\u001b[43m \u001b[49m\u001b[38;5;241;43m/\u001b[39;49m\u001b[43m \u001b[49m\u001b[38;5;241;43m20\u001b[39;49m\u001b[43m,\u001b[49m\u001b[43m \u001b[49m\u001b[43morder\u001b[49m\u001b[38;5;241;43m=\u001b[39;49m\u001b[38;5;124;43m'\u001b[39;49m\u001b[38;5;124;43mzyx\u001b[39;49m\u001b[38;5;124;43m'\u001b[39;49m\u001b[43m,\u001b[49m\u001b[43m \u001b[49m\u001b[43mquater\u001b[49m\u001b[38;5;241;43m=\u001b[39;49m\u001b[38;5;28;43;01mTrue\u001b[39;49;00m\u001b[43m)\u001b[49m\n\u001b[1;32m     27\u001b[0m glb \u001b[38;5;241m=\u001b[39m Animation\u001b[38;5;241m.\u001b[39mpositions_global(new_anim)[:, re_order]\n\u001b[1;32m     29\u001b[0m \u001b[38;5;66;03m# assert np.allclose(glb, positions)\u001b[39;00m\n",
      "File \u001b[0;32m~/repos/diffusion-motion-inbetweening/convert/joints2bvh/BVH.py:255\u001b[0m, in \u001b[0;36msave\u001b[0;34m(filename, anim, names, frametime, order, positions, mask, quater)\u001b[0m\n\u001b[1;32m    250\u001b[0m \u001b[38;5;28;01mfor\u001b[39;00m j \u001b[38;5;129;01min\u001b[39;00m \u001b[38;5;28mrange\u001b[39m(anim\u001b[38;5;241m.\u001b[39mshape[\u001b[38;5;241m1\u001b[39m]):\n\u001b[1;32m    252\u001b[0m     \u001b[38;5;28;01mif\u001b[39;00m positions \u001b[38;5;129;01mor\u001b[39;00m j \u001b[38;5;241m==\u001b[39m \u001b[38;5;241m0\u001b[39m:\n\u001b[1;32m    254\u001b[0m         f\u001b[38;5;241m.\u001b[39mwrite(\u001b[38;5;124m\"\u001b[39m\u001b[38;5;132;01m%f\u001b[39;00m\u001b[38;5;124m \u001b[39m\u001b[38;5;132;01m%f\u001b[39;00m\u001b[38;5;124m \u001b[39m\u001b[38;5;132;01m%f\u001b[39;00m\u001b[38;5;124m \u001b[39m\u001b[38;5;132;01m%f\u001b[39;00m\u001b[38;5;124m \u001b[39m\u001b[38;5;132;01m%f\u001b[39;00m\u001b[38;5;124m \u001b[39m\u001b[38;5;132;01m%f\u001b[39;00m\u001b[38;5;124m \u001b[39m\u001b[38;5;124m\"\u001b[39m \u001b[38;5;241m%\u001b[39m (\n\u001b[0;32m--> 255\u001b[0m             \u001b[43mposs\u001b[49m\u001b[43m[\u001b[49m\u001b[43mi\u001b[49m\u001b[43m,\u001b[49m\u001b[43m \u001b[49m\u001b[43mj\u001b[49m\u001b[43m,\u001b[49m\u001b[43m \u001b[49m\u001b[38;5;241;43m0\u001b[39;49m\u001b[43m]\u001b[49m, poss[i, j, \u001b[38;5;241m1\u001b[39m], poss[i, j, \u001b[38;5;241m2\u001b[39m],\n\u001b[1;32m    256\u001b[0m             rots[i, j, ordermap[order[\u001b[38;5;241m0\u001b[39m]]], rots[i, j, ordermap[order[\u001b[38;5;241m1\u001b[39m]]], rots[i, j, ordermap[order[\u001b[38;5;241m2\u001b[39m]]]))\n\u001b[1;32m    258\u001b[0m     \u001b[38;5;28;01melse\u001b[39;00m:\n\u001b[1;32m    259\u001b[0m         \u001b[38;5;28;01mif\u001b[39;00m mask \u001b[38;5;241m==\u001b[39m \u001b[38;5;28;01mNone\u001b[39;00m \u001b[38;5;129;01mor\u001b[39;00m mask[j] \u001b[38;5;241m==\u001b[39m \u001b[38;5;241m1\u001b[39m:\n",
      "\u001b[0;31mIndexError\u001b[0m: index 1 is out of bounds for axis 0 with size 1"
     ]
    }
   ],
   "source": [
    "posrot_skel_anim, posrot_skel_glb = convert_to_bvh_using_skel_offsets(\n",
    "    r_pos[0, 0, :, :-1].numpy(),\n",
    "    quat_from_rot[:-1].numpy(),\n",
    "    f\"test_posrot_skel.bvh\"\n",
    ")"
   ]
  },
  {
   "cell_type": "code",
   "execution_count": 70,
   "metadata": {},
   "outputs": [
    {
     "data": {
      "application/vnd.jupyter.widget-view+json": {
       "model_id": "db8a26c39cb84a39812d6e7d52fe8f78",
       "version_major": 2,
       "version_minor": 0
      },
      "text/plain": [
       "interactive(children=(IntSlider(value=78, description='frame', max=195), Output()), _dom_classes=('widget-inte…"
      ]
     },
     "metadata": {},
     "output_type": "display_data"
    }
   ],
   "source": [
    "@ipywidgets.interact(frame=(0, 195))\n",
    "def plot(frame=78):\n",
    "    fig = plt.figure(figsize=(9, 9))\n",
    "    plt.suptitle(f\"{results_path.parent.name}\\nBlue: posrot_skel\\nGreen: GT\")\n",
    "\n",
    "    ax = fig.add_subplot(111, projection='3d')\n",
    "    ax.set_xlabel('X-axis')\n",
    "    ax.set_ylabel('Y-axis')\n",
    "    ax.set_zlabel('Z-axis')\n",
    "\n",
    "    ax.view_init(elev=10, azim=25, vertical_axis=\"y\")\n",
    "    ax.axis(\"equal\")\n",
    "\n",
    "    ax.set_ylim(0, 2)\n",
    "    ax.set_xlim(-1, 1)\n",
    "    ax.set_zlim(-1, 1)\n",
    "\n",
    "    for chain in t2m_kinematic_chain:\n",
    "        ax.plot3D(\n",
    "            posrot_skel_glb[frame, chain, 0],\n",
    "            posrot_skel_glb[frame, chain, 1],\n",
    "            posrot_skel_glb[frame, chain, 2],\n",
    "            color=\"blue\",\n",
    "            alpha=0.5,\n",
    "        )\n",
    "\n",
    "\n",
    "    for chain in t2m_kinematic_chain:\n",
    "        ax.plot3D(\n",
    "            observed_motion[frame, chain, 0],\n",
    "            observed_motion[frame, chain, 1],\n",
    "            observed_motion[frame, chain, 2],\n",
    "            color=\"green\",\n",
    "            alpha=0.5,\n",
    "        )\n",
    "    for joint_id in range(22):\n",
    "        ax.text(\n",
    "            posrot_skel_glb[frame, joint_id, 0],\n",
    "            posrot_skel_glb[frame, joint_id, 1],\n",
    "            posrot_skel_glb[frame, joint_id, 2],\n",
    "            f\"{joint_id} {posrot_anim.names[joint_id]}\",\n",
    "            color=\"black\",\n",
    "            fontsize=8,\n",
    "        )\n",
    "\n",
    "\n",
    "    plt.show()"
   ]
  },
  {
   "cell_type": "code",
   "execution_count": 57,
   "metadata": {},
   "outputs": [],
   "source": [
    "posrot_anim, posrot_glb = convert_posrot_to_bvh(\n",
    "    glb_from_ric,\n",
    "    quat_from_ric[:-1].numpy(),\n",
    "    f\"test_posrot.bvh\"\n",
    ")"
   ]
  },
  {
   "cell_type": "code",
   "execution_count": 42,
   "metadata": {},
   "outputs": [
    {
     "data": {
      "application/vnd.jupyter.widget-view+json": {
       "model_id": "2257268108fb4434b5a302bac59c7d98",
       "version_major": 2,
       "version_minor": 0
      },
      "text/plain": [
       "interactive(children=(IntSlider(value=78, description='frame', max=195), Output()), _dom_classes=('widget-inte…"
      ]
     },
     "metadata": {},
     "output_type": "display_data"
    }
   ],
   "source": [
    "@ipywidgets.interact(frame=(0, 195))\n",
    "def plot(frame=78):\n",
    "    fig = plt.figure(figsize=(9, 9))\n",
    "    plt.suptitle(f\"{results_path.parent.name}\\nBlue: posrot\\nGreen: GT\")\n",
    "\n",
    "    ax = fig.add_subplot(111, projection='3d')\n",
    "    ax.set_xlabel('X-axis')\n",
    "    ax.set_ylabel('Y-axis')\n",
    "    ax.set_zlabel('Z-axis')\n",
    "\n",
    "    ax.view_init(elev=10, azim=25, vertical_axis=\"y\")\n",
    "    ax.axis(\"equal\")\n",
    "\n",
    "    ax.set_ylim(0, 2)\n",
    "    ax.set_xlim(-1, 1)\n",
    "    ax.set_zlim(-1, 1)\n",
    "\n",
    "    for chain in t2m_kinematic_chain:\n",
    "        ax.plot3D(\n",
    "            posrot_glb[frame, chain, 0],\n",
    "            posrot_glb[frame, chain, 1],\n",
    "            posrot_glb[frame, chain, 2],\n",
    "            color=\"blue\",\n",
    "            alpha=0.5,\n",
    "        )\n",
    "\n",
    "\n",
    "    for chain in t2m_kinematic_chain:\n",
    "        ax.plot3D(\n",
    "            observed_motion[frame, chain, 0],\n",
    "            observed_motion[frame, chain, 1],\n",
    "            observed_motion[frame, chain, 2],\n",
    "            color=\"green\",\n",
    "            alpha=0.5,\n",
    "        )\n",
    "    for joint_id in range(22):\n",
    "        ax.text(\n",
    "            posrot_glb[frame, joint_id, 0],\n",
    "            posrot_glb[frame, joint_id, 1],\n",
    "            posrot_glb[frame, joint_id, 2],\n",
    "            f\"{joint_id} {posrot_anim.names[joint_id]}\",\n",
    "            color=\"black\",\n",
    "            fontsize=8,\n",
    "        )\n",
    "\n",
    "\n",
    "    plt.show()"
   ]
  },
  {
   "cell_type": "markdown",
   "metadata": {},
   "source": [
    "---\n",
    "\n",
    "## Compare the rotation of `posrot_anim` and `anim_base` to find the difference \n",
    "\n",
    "\n",
    "## TODO: Which rotations are local/global? Did I switch them up?\n",
    "## TODO: see skeleton.py#130++?"
   ]
  },
  {
   "cell_type": "code",
   "execution_count": 43,
   "metadata": {},
   "outputs": [],
   "source": [
    "from convert.joints2bvh.joints2bvh import Joint2BVHConvertor\n",
    "\n",
    "\n",
    "converter = Joint2BVHConvertor()\n",
    "base_anim, base_glb = converter.convert(motion_from_ric[0].numpy(), None, foot_ik=False)"
   ]
  },
  {
   "cell_type": "code",
   "execution_count": 47,
   "metadata": {},
   "outputs": [
    {
     "data": {
      "text/plain": [
       "(array([[-0.001795, -0.223333,  0.028219],\n",
       "        [ 0.06952 , -0.091406, -0.006815],\n",
       "        [ 0.034277, -0.375199, -0.004496],\n",
       "        [-0.013596, -0.397961, -0.043693],\n",
       "        [ 0.026358, -0.055791,  0.119288],\n",
       "        [-0.06767 , -0.090522, -0.00432 ],\n",
       "        [-0.03829 , -0.382569, -0.00885 ],\n",
       "        [ 0.015774, -0.398415, -0.042312],\n",
       "        [-0.025372, -0.048144,  0.123348],\n",
       "        [-0.002533,  0.108963, -0.026696],\n",
       "        [ 0.005487,  0.13518 ,  0.001092],\n",
       "        [ 0.001457,  0.052922,  0.025425],\n",
       "        [-0.002778,  0.21387 , -0.042857],\n",
       "        [ 0.005152,  0.06497 ,  0.051349],\n",
       "        [ 0.078845,  0.121749, -0.03409 ],\n",
       "        [ 0.090977,  0.030469, -0.008868],\n",
       "        [ 0.259612, -0.012772, -0.027456],\n",
       "        [ 0.249234,  0.008986, -0.001171],\n",
       "        [-0.081759,  0.118833, -0.038615],\n",
       "        [-0.096012,  0.032551, -0.009143],\n",
       "        [-0.253742, -0.013329, -0.021401],\n",
       "        [-0.255298,  0.007772, -0.005559]]),\n",
       " tensor([[ 0.0000,  0.0000,  0.0000],\n",
       "         [ 0.1031,  0.0000,  0.0000],\n",
       "         [-0.1099,  0.0000,  0.0000],\n",
       "         [ 0.0000,  0.1316,  0.0000],\n",
       "         [ 0.0000, -0.3936,  0.0000],\n",
       "         [ 0.0000, -0.3901,  0.0000],\n",
       "         [ 0.0000,  0.1432,  0.0000],\n",
       "         [ 0.0000, -0.4322,  0.0000],\n",
       "         [ 0.0000, -0.4257,  0.0000],\n",
       "         [ 0.0000,  0.0574,  0.0000],\n",
       "         [ 0.0000,  0.0000,  0.1434],\n",
       "         [ 0.0000,  0.0000,  0.1495],\n",
       "         [ 0.0000,  0.2193,  0.0000],\n",
       "         [ 0.1375,  0.0000,  0.0000],\n",
       "         [-0.1434,  0.0000,  0.0000],\n",
       "         [ 0.0000,  0.0000,  0.1031],\n",
       "         [ 0.0000, -0.1316,  0.0000],\n",
       "         [ 0.0000, -0.1230,  0.0000],\n",
       "         [ 0.0000, -0.2569,  0.0000],\n",
       "         [ 0.0000, -0.2631,  0.0000],\n",
       "         [ 0.0000, -0.2660,  0.0000],\n",
       "         [ 0.0000, -0.2697,  0.0000]]))"
      ]
     },
     "execution_count": 47,
     "metadata": {},
     "output_type": "execute_result"
    }
   ],
   "source": [
    "base_anim.offsets, my_skel.offset()"
   ]
  },
  {
   "cell_type": "code",
   "execution_count": null,
   "metadata": {},
   "outputs": [
    {
     "name": "stdout",
     "output_type": "stream",
     "text": [
      "Base:\n",
      " [[-0.05033402  0.07536314 -0.03500193]\n",
      " [ 0.04406977  0.00503757 -0.03806691]]\n",
      "PosRot:\n",
      " [[ 0.          0.          0.        ]\n",
      " [-0.03495204  0.06711683 -0.96001703]]\n"
     ]
    },
    {
     "data": {
      "text/plain": [
       "(array([[-0.03495204,  0.06711683, -0.96001705]]),)"
      ]
     },
     "execution_count": 90,
     "metadata": {},
     "output_type": "execute_result"
    }
   ],
   "source": [
    "frame = 0\n",
    "joint = slice(0, 2)\n",
    "\n",
    "print(\"Base:\\n\", base_anim.rotations[frame, joint].euler())\n",
    "print(\"PosRot:\\n\", posrot_anim.rotations[frame, joint].euler())\n",
    "\n",
    "(posrot_anim.rotations[frame, 1] * -posrot_anim.rotations[frame, 0]).euler(),"
   ]
  },
  {
   "cell_type": "code",
   "execution_count": null,
   "metadata": {},
   "outputs": [
    {
     "data": {
      "application/vnd.jupyter.widget-view+json": {
       "model_id": "460f5cae907243f28434ad37c272a018",
       "version_major": 2,
       "version_minor": 0
      },
      "text/plain": [
       "interactive(children=(IntSlider(value=78, description='frame', max=195), Output()), _dom_classes=('widget-inte…"
      ]
     },
     "metadata": {},
     "output_type": "display_data"
    }
   ],
   "source": [
    "@ipywidgets.interact(frame=(0, 195))\n",
    "def plot(frame=78):\n",
    "    fig = plt.figure(figsize=(9, 9))\n",
    "    plt.suptitle(f\"{results_path.parent.name}\\nBlue: posrot\\nGreen: GT\")\n",
    "\n",
    "    ax = fig.add_subplot(111, projection=\"3d\")\n",
    "    ax.set_xlabel(\"X-axis\")\n",
    "    ax.set_ylabel(\"Y-axis\")\n",
    "    ax.set_zlabel(\"Z-axis\")\n",
    "\n",
    "    ax.view_init(elev=10, azim=25, vertical_axis=\"y\")\n",
    "    ax.axis(\"equal\")\n",
    "\n",
    "    ax.set_ylim(0, 2)\n",
    "    ax.set_xlim(-1, 1)\n",
    "    ax.set_zlim(-1, 1)\n",
    "\n",
    "    for chain in t2m_kinematic_chain:\n",
    "        ax.plot3D(\n",
    "            posrot_glb[frame, chain, 0],\n",
    "            posrot_glb[frame, chain, 1],\n",
    "            posrot_glb[frame, chain, 2],\n",
    "            color=\"blue\",\n",
    "            alpha=0.5,\n",
    "        )\n",
    "\n",
    "    for chain in t2m_kinematic_chain:\n",
    "        ax.plot3D(\n",
    "            base_glb[frame, chain, 0],\n",
    "            base_glb[frame, chain, 1],\n",
    "            base_glb[frame, chain, 2],\n",
    "            color=\"green\",\n",
    "            alpha=0.5,\n",
    "        )\n",
    "\n",
    "    for joint_id in range(22):\n",
    "        ax.text(\n",
    "            posrot_glb[frame, joint_id, 0],\n",
    "            posrot_glb[frame, joint_id, 1],\n",
    "            posrot_glb[frame, joint_id, 2],\n",
    "            # f\"{joint_id} {base_anim.names[joint_id]}\",\n",
    "            f\"{joint_id}\",\n",
    "            color=\"blue\",\n",
    "            fontsize=6,\n",
    "            alpha=0.5,\n",
    "        )\n",
    "\n",
    "        ax.text(\n",
    "            base_glb[frame, joint_id, 0],\n",
    "            base_glb[frame, joint_id, 1],\n",
    "            base_glb[frame, joint_id, 2],\n",
    "            # f\"{joint_id} {base_anim.names[joint_id]}\",\n",
    "            f\"{joint_id}\",\n",
    "            color=\"green\",\n",
    "            fontsize=6,\n",
    "            alpha=0.5,\n",
    "        )\n",
    "\n",
    "    # plt.show()"
   ]
  },
  {
   "cell_type": "code",
   "execution_count": null,
   "metadata": {},
   "outputs": [],
   "source": []
  }
 ],
 "metadata": {
  "kernelspec": {
   "display_name": "condmdi",
   "language": "python",
   "name": "python3"
  },
  "language_info": {
   "codemirror_mode": {
    "name": "ipython",
    "version": 3
   },
   "file_extension": ".py",
   "mimetype": "text/x-python",
   "name": "python",
   "nbconvert_exporter": "python",
   "pygments_lexer": "ipython3",
   "version": "3.9.19"
  }
 },
 "nbformat": 4,
 "nbformat_minor": 2
}
