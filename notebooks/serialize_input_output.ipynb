{
 "cells": [
  {
   "cell_type": "code",
   "execution_count": 2,
   "metadata": {},
   "outputs": [],
   "source": [
    "import io\n",
    "import pickle\n",
    "from pathlib import Path\n",
    "\n",
    "import numpy as np"
   ]
  },
  {
   "cell_type": "code",
   "execution_count": 3,
   "metadata": {},
   "outputs": [],
   "source": [
    "results_path = Path(\n",
    "    \"../save/results/condmdi_random_joints/condsamples000750000__imputation_benchmark_clip_T=40_CI=0_CRG=0_KGP=1.0_seed10_person_throwing_a_ball/results.npy\"\n",
    ")\n",
    "results = np.load(results_path, allow_pickle=True).item()"
   ]
  },
  {
   "cell_type": "code",
   "execution_count": 4,
   "metadata": {},
   "outputs": [
    {
     "data": {
      "text/plain": [
       "dict_keys(['sample', 'motion', 'text', 'lengths', 'num_samples', 'num_repetitions', 'observed_motion', 'observed_mask', 'pre_y', 'pre_xz', 'pre_rot'])"
      ]
     },
     "execution_count": 4,
     "metadata": {},
     "output_type": "execute_result"
    }
   ],
   "source": [
    "results.keys()"
   ]
  },
  {
   "cell_type": "code",
   "execution_count": 5,
   "metadata": {},
   "outputs": [
    {
     "name": "stdout",
     "output_type": "stream",
     "text": [
      "Test Motion Shape: (10, 22, 3) using `float32`\n"
     ]
    }
   ],
   "source": [
    "test_motion = results[\"motion\"][0, 0, :, :, :10]  # 10 frames of first motion\n",
    "test_motion = test_motion.transpose(2, 0, 1)\n",
    "test_frame = test_motion[0]\n",
    "\n",
    "print(f\"Test Motion Shape: {test_motion.shape} using `{test_motion.dtype}`\")"
   ]
  },
  {
   "cell_type": "code",
   "execution_count": 6,
   "metadata": {},
   "outputs": [
    {
     "name": "stdout",
     "output_type": "stream",
     "text": [
      "Using `np.save`:\n",
      "Single Frame:\t 490\n",
      "10 Frames:\t 2866\n"
     ]
    }
   ],
   "source": [
    "print(\"Using `np.save`:\")\n",
    "\n",
    "file_buffer = io.BytesIO()\n",
    "np.save(file_buffer, test_frame)\n",
    "print(\"Single Frame:\\t\", file_buffer.__sizeof__())\n",
    "\n",
    "file_buffer = io.BytesIO()\n",
    "np.save(file_buffer, test_motion)\n",
    "print(f\"{len(test_motion)} Frames:\\t\", file_buffer.__sizeof__())"
   ]
  },
  {
   "cell_type": "code",
   "execution_count": 7,
   "metadata": {},
   "outputs": [
    {
     "name": "stdout",
     "output_type": "stream",
     "text": [
      "Using `pickle.dumps`:\n",
      "Single Frame:\t 449\n",
      "10 Frames:\t 2827\n"
     ]
    }
   ],
   "source": [
    "print(\"Using `pickle.dumps`:\")\n",
    "\n",
    "test_pickle = pickle.dumps(test_frame)\n",
    "print(\"Single Frame:\\t\", test_pickle.__sizeof__())\n",
    "\n",
    "test_pickle = pickle.dumps(test_motion)\n",
    "print(f\"{len(test_motion)} Frames:\\t\", test_pickle.__sizeof__())"
   ]
  },
  {
   "cell_type": "markdown",
   "metadata": {},
   "source": [
    "## Pack/Unpack motion"
   ]
  },
  {
   "cell_type": "code",
   "execution_count": 24,
   "metadata": {},
   "outputs": [],
   "source": [
    "masked_motion = test_motion.copy()\n",
    "masked_motion[:, 16:, :] = np.nan"
   ]
  },
  {
   "cell_type": "code",
   "execution_count": 25,
   "metadata": {},
   "outputs": [],
   "source": [
    "keyframes = {\n",
    "    0: masked_motion[0].tolist(),\n",
    "    # 1: masked_motion[1].tolist(),\n",
    "    # 2: masked_motion[2].tolist(),\n",
    "    3: masked_motion[3].tolist(),\n",
    "    # 4: masked_motion[4].tolist(),\n",
    "    # 5: masked_motion[5].tolist(),\n",
    "    # 6: masked_motion[6].tolist(),\n",
    "}\n"
   ]
  },
  {
   "cell_type": "code",
   "execution_count": 37,
   "metadata": {},
   "outputs": [],
   "source": [
    "input_frames = np.max(list(keyframes.keys()))\n",
    "rot_motion = np.zeros((input_frames + 1, 22, 3))\n",
    "joint_mask = np.ones((input_frames + 1, 22, 1), dtype=bool)\n",
    "for frame, pose in keyframes.items():\n",
    "    _pose = np.array(pose)\n",
    "    _pose_mask = ~np.isnan(_pose)\n",
    "    rot_motion[frame, _pose_mask] = _pose[_pose_mask]\n",
    "    joint_mask[frame] = _pose_mask.all(axis=-1).reshape(-1, 1)\n",
    "\n",
    "# Extract root position and mask\n",
    "root_pos = rot_motion[:, 0].copy()\n",
    "root_mask = joint_mask[:, 0].copy()\n",
    "rot_motion = rot_motion[:, 1:]\n",
    "joint_mask = joint_mask[:, 1:]\n"
   ]
  },
  {
   "cell_type": "code",
   "execution_count": 38,
   "metadata": {},
   "outputs": [
    {
     "data": {
      "text/plain": [
       "array([[ 0.        ,  0.96076506,  0.        ],\n",
       "       [ 0.        ,  0.        ,  0.        ],\n",
       "       [ 0.        ,  0.        ,  0.        ],\n",
       "       [-0.00181807,  0.95707607,  0.02317366]])"
      ]
     },
     "execution_count": 38,
     "metadata": {},
     "output_type": "execute_result"
    }
   ],
   "source": [
    "root_pos"
   ]
  },
  {
   "cell_type": "code",
   "execution_count": null,
   "metadata": {},
   "outputs": [],
   "source": []
  }
 ],
 "metadata": {
  "kernelspec": {
   "display_name": "condmdi",
   "language": "python",
   "name": "python3"
  },
  "language_info": {
   "codemirror_mode": {
    "name": "ipython",
    "version": 3
   },
   "file_extension": ".py",
   "mimetype": "text/x-python",
   "name": "python",
   "nbconvert_exporter": "python",
   "pygments_lexer": "ipython3",
   "version": "3.9.19"
  }
 },
 "nbformat": 4,
 "nbformat_minor": 2
}
